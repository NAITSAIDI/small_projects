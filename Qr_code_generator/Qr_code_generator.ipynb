{
 "cells": [
  {
   "cell_type": "code",
   "execution_count": 46,
   "id": "9ee1d54d",
   "metadata": {},
   "outputs": [],
   "source": [
    "import qrcode\n"
   ]
  },
  {
   "cell_type": "code",
   "execution_count": 47,
   "id": "a2e0502e",
   "metadata": {},
   "outputs": [],
   "source": [
    "input_URL = \"https://github.com/NAITSAIDI\"\n"
   ]
  },
  {
   "cell_type": "code",
   "execution_count": 48,
   "id": "c39f9227",
   "metadata": {},
   "outputs": [],
   "source": [
    "#Generate my github qr code\n",
    "qr = qrcode.QRCode(\n",
    "    version=1,\n",
    "    error_correction=qrcode.constants.ERROR_CORRECT_L,\n",
    "    box_size=10,\n",
    "    border=4,\n",
    ")"
   ]
  },
  {
   "cell_type": "code",
   "execution_count": 49,
   "id": "ea8014b0",
   "metadata": {},
   "outputs": [],
   "source": [
    "qr.add_data(input_URL)\n",
    "qr.make(fit=True)\n"
   ]
  },
  {
   "cell_type": "code",
   "execution_count": 50,
   "id": "ee4a1b8d",
   "metadata": {},
   "outputs": [],
   "source": [
    "img = qr.make_image(fill_color=\"black\", back_color=\"white\")\n",
    "img.save(\"github_qrcode.png\")\n"
   ]
  },
  {
   "cell_type": "code",
   "execution_count": 51,
   "id": "23906a21",
   "metadata": {},
   "outputs": [
    {
     "name": "stdout",
     "output_type": "stream",
     "text": [
      "[b'https://github.com/NAITSAIDI']\n"
     ]
    }
   ],
   "source": [
    "print(qr.data_list)\n"
   ]
  },
  {
   "cell_type": "code",
   "execution_count": 52,
   "id": "664ff1be",
   "metadata": {},
   "outputs": [],
   "source": [
    "# Generate my Professional Profile Qr Code"
   ]
  },
  {
   "cell_type": "code",
   "execution_count": 53,
   "id": "cd56edc4",
   "metadata": {},
   "outputs": [],
   "source": [
    "input_URL_2 = \"https://profile.ironhack.com/alix-nait-saidi\""
   ]
  },
  {
   "cell_type": "code",
   "execution_count": 54,
   "id": "2f539c74",
   "metadata": {},
   "outputs": [],
   "source": [
    "qr = qrcode.QRCode(\n",
    "    version=1,\n",
    "    error_correction=qrcode.constants.ERROR_CORRECT_L,\n",
    "    box_size=10,\n",
    "    border=4,\n",
    ")"
   ]
  },
  {
   "cell_type": "code",
   "execution_count": 55,
   "id": "068fb28f",
   "metadata": {},
   "outputs": [],
   "source": [
    "qr.add_data(input_URL_2)\n",
    "qr.make(fit=True)\n"
   ]
  },
  {
   "cell_type": "code",
   "execution_count": 56,
   "id": "b0d2ae70",
   "metadata": {},
   "outputs": [],
   "source": [
    "img = qr.make_image(fill_color=\"black\", back_color=\"white\")\n",
    "img.save(\"Professional_profile_qrcode.png\")\n"
   ]
  },
  {
   "cell_type": "code",
   "execution_count": 57,
   "id": "5d95db49",
   "metadata": {},
   "outputs": [
    {
     "name": "stdout",
     "output_type": "stream",
     "text": [
      "[b'https://profile.ironhack.com/alix-nait-saidi']\n"
     ]
    }
   ],
   "source": [
    "print(qr.data_list)"
   ]
  },
  {
   "cell_type": "code",
   "execution_count": 58,
   "id": "6c8bec64",
   "metadata": {},
   "outputs": [
    {
     "name": "stdout",
     "output_type": "stream",
     "text": [
      "[b'https://www.linkedin.com/in/alix-nait-saidi/']\n"
     ]
    }
   ],
   "source": [
    "# Generate a link to my linkedIn account\n",
    "input_URL_3 = \"https://www.linkedin.com/in/alix-nait-saidi/\"\n",
    "\n",
    "qr = qrcode.QRCode(\n",
    "    version=1,\n",
    "    error_correction=qrcode.constants.ERROR_CORRECT_L,\n",
    "    box_size=10,\n",
    "    border=4,\n",
    ")\n",
    "\n",
    "qr.add_data(input_URL_3)\n",
    "qr.make(fit=True)\n",
    "\n",
    "img = qr.make_image(fill_color=\"black\", back_color=\"white\")\n",
    "img.save(\"LinkedIn_qrcode.png\")\n",
    "\n",
    "print(qr.data_list)"
   ]
  },
  {
   "cell_type": "code",
   "execution_count": null,
   "id": "c40bb917",
   "metadata": {},
   "outputs": [],
   "source": []
  },
  {
   "cell_type": "code",
   "execution_count": null,
   "id": "d8d98604",
   "metadata": {},
   "outputs": [],
   "source": []
  }
 ],
 "metadata": {
  "kernelspec": {
   "display_name": "Python 3 (ipykernel)",
   "language": "python",
   "name": "python3"
  },
  "language_info": {
   "codemirror_mode": {
    "name": "ipython",
    "version": 3
   },
   "file_extension": ".py",
   "mimetype": "text/x-python",
   "name": "python",
   "nbconvert_exporter": "python",
   "pygments_lexer": "ipython3",
   "version": "3.9.12"
  }
 },
 "nbformat": 4,
 "nbformat_minor": 5
}
