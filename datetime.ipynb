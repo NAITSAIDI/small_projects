{
 "cells": [
  {
   "cell_type": "code",
   "execution_count": 2,
   "id": "71cbd7f3",
   "metadata": {},
   "outputs": [
    {
     "name": "stdout",
     "output_type": "stream",
     "text": [
      "October 28, 2022\n",
      "2016-07-24 00:00:00\n"
     ]
    }
   ],
   "source": [
    "import datetime\n",
    "import pytz\n",
    "\n",
    "# Naive\n",
    "# d = datetime.date(2001, 9, 11)\n",
    "\n",
    "tday = datetime.date.today()\n",
    "\n",
    "\n",
    "# weekday() - Monday is 0 and Sunday is 6\n",
    "# print(tday)\n",
    "\n",
    "# isoweekday() - Monday is 1 and Sunday is 7\n",
    "# print(tday)\n",
    "\n",
    "\n",
    "# datetime.timedelta(days=0, seconds=0, microseconds=0, milliseconds=0, minutes=0, hours=0, weeks=0)\n",
    "\n",
    "tdelta = datetime.timedelta(hours=12)\n",
    "\n",
    "# print(tday + tdelta)\n",
    "\n",
    "# date2 = date1 + timedelta\n",
    "# timedelta = date1 + date2\n",
    "\n",
    "bday = datetime.date(2016, 9, 24)\n",
    "\n",
    "till_bday = bday - tday\n",
    "\n",
    "# print(till_bday.days)\n",
    "\n",
    "t = datetime.time(9, 30, 45, 100000)\n",
    "\n",
    "# dt = datetime.datetime.today()\n",
    "# dtnow = datetime.datetime.now()\n",
    "# print(dir(datetime.datetime))\n",
    "# print(dt)\n",
    "# print(dtnow)\n",
    "\n",
    "dt = datetime.datetime(2016, 7, 24, 12, 30, 45, tzinfo=pytz.UTC)\n",
    "# print(dir(dt))\n",
    "\n",
    "dt_utcnow = datetime.datetime.now(tz=pytz.UTC)\n",
    "# print(dt_utcnow)\n",
    "\n",
    "dt_utcnow2 = datetime.datetime.utcnow().replace(tzinfo=pytz.UTC)\n",
    "# print(dt_utcnow2)\n",
    "\n",
    "# dt_mtn = dt_utcnow.astimezone(pytz.timezone('US/Mountain'))\n",
    "# print(dt_mtn)\n",
    "\n",
    "dt_mtn = datetime.datetime.now()\n",
    "\n",
    "mtn_tz = pytz.timezone('US/Mountain')\n",
    "dt_mtn = mtn_tz.localize(dt_mtn)\n",
    "\n",
    "# print(dt_mtn)\n",
    "\n",
    "dt_east = dt_mtn.astimezone(pytz.timezone('US/Eastern'))\n",
    "# print(dt_east)\n",
    "\n",
    "print(dt_mtn.strftime('%B %d, %Y'))\n",
    "\n",
    "dt_str = 'July 24, 2016'\n",
    "dt = datetime.datetime.strptime(dt_str, '%B %d, %Y')\n",
    "print(dt)\n",
    "\n",
    "# strftime - Datetime to String\n",
    "# strptime - String to Datetime\n",
    "\n"
   ]
  },
  {
   "cell_type": "code",
   "execution_count": null,
   "id": "7109f8c2",
   "metadata": {},
   "outputs": [],
   "source": []
  }
 ],
 "metadata": {
  "kernelspec": {
   "display_name": "Python 3 (ipykernel)",
   "language": "python",
   "name": "python3"
  },
  "language_info": {
   "codemirror_mode": {
    "name": "ipython",
    "version": 3
   },
   "file_extension": ".py",
   "mimetype": "text/x-python",
   "name": "python",
   "nbconvert_exporter": "python",
   "pygments_lexer": "ipython3",
   "version": "3.9.12"
  }
 },
 "nbformat": 4,
 "nbformat_minor": 5
}
