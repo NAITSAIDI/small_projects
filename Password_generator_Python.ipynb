{
 "cells": [
  {
   "cell_type": "markdown",
   "id": "c36f47e0",
   "metadata": {},
   "source": [
    "##  Mini Python Project \n",
    "# Random Password Generator"
   ]
  },
  {
   "cell_type": "code",
   "execution_count": 6,
   "id": "c8e4a60f",
   "metadata": {},
   "outputs": [],
   "source": [
    "# Import the necessary Modules\n",
    "from random import randint"
   ]
  },
  {
   "cell_type": "code",
   "execution_count": 28,
   "id": "dbd9c7de",
   "metadata": {},
   "outputs": [],
   "source": [
    "# All uppercases password\n",
    "password= \"\""
   ]
  },
  {
   "cell_type": "code",
   "execution_count": 29,
   "id": "6805a9f7",
   "metadata": {},
   "outputs": [
    {
     "name": "stdout",
     "output_type": "stream",
     "text": [
      "UZKKHWTGRG\n"
     ]
    }
   ],
   "source": [
    "# ((65 to 90))refers to all the letters in the alphabet in uppercase,  \n",
    "# if I want to show them in lower case I need to put (.lower())\n",
    "for i in range (10):\n",
    "    i=chr(randint(65,90))\n",
    "    password= str(password)+ i\n",
    "print (password)    \n",
    "    "
   ]
  },
  {
   "cell_type": "markdown",
   "id": "79c926be",
   "metadata": {},
   "source": [
    "## Upper and Lowercase password"
   ]
  },
  {
   "cell_type": "code",
   "execution_count": 30,
   "id": "442e06d3",
   "metadata": {},
   "outputs": [],
   "source": [
    "password= \"\""
   ]
  },
  {
   "cell_type": "code",
   "execution_count": 31,
   "id": "b0c64011",
   "metadata": {},
   "outputs": [
    {
     "name": "stdout",
     "output_type": "stream",
     "text": [
      "EgYrTeLjRx\n"
     ]
    }
   ],
   "source": [
    "for i in range (5):\n",
    "    i= chr(randint(65, 90))\n",
    "    for j in range(5):\n",
    "        j= chr(randint(65,90)).lower()\n",
    "    password= str(password)+ i+j\n",
    "print(password)    "
   ]
  },
  {
   "cell_type": "code",
   "execution_count": null,
   "id": "6cc768a5",
   "metadata": {},
   "outputs": [],
   "source": []
  }
 ],
 "metadata": {
  "kernelspec": {
   "display_name": "Python 3 (ipykernel)",
   "language": "python",
   "name": "python3"
  },
  "language_info": {
   "codemirror_mode": {
    "name": "ipython",
    "version": 3
   },
   "file_extension": ".py",
   "mimetype": "text/x-python",
   "name": "python",
   "nbconvert_exporter": "python",
   "pygments_lexer": "ipython3",
   "version": "3.9.12"
  }
 },
 "nbformat": 4,
 "nbformat_minor": 5
}
