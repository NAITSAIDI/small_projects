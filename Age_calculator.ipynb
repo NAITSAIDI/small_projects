{
 "cells": [
  {
   "cell_type": "code",
   "execution_count": 2,
   "id": "f9c12f58",
   "metadata": {},
   "outputs": [],
   "source": [
    "import time\n",
    "from calendar import isleap\n"
   ]
  },
  {
   "cell_type": "code",
   "execution_count": 3,
   "id": "bb3bde4e",
   "metadata": {},
   "outputs": [],
   "source": [
    "# judge the leap year\n",
    "def judge_leap_year(year):\n",
    "    if isleap(year):\n",
    "        return True\n",
    "    else:\n",
    "        return False"
   ]
  },
  {
   "cell_type": "code",
   "execution_count": 4,
   "id": "d945c4fd",
   "metadata": {},
   "outputs": [],
   "source": [
    "# returns the number of days in each month\n",
    "def month_days(month, leap_year):\n",
    "    if month in [1, 3, 5, 7, 8, 10, 12]:\n",
    "        return 31\n",
    "    elif month in [4, 6, 9, 11]:\n",
    "        return 30\n",
    "    elif month == 2 and leap_year:\n",
    "        return 29\n",
    "    elif month == 2 and (not leap_year):\n",
    "        return 28"
   ]
  },
  {
   "cell_type": "code",
   "execution_count": 5,
   "id": "19b060a7",
   "metadata": {},
   "outputs": [
    {
     "name": "stdout",
     "output_type": "stream",
     "text": [
      "input your name: Alix\n",
      "input your age: 31\n"
     ]
    }
   ],
   "source": [
    "name = input(\"input your name: \")\n",
    "age = input(\"input your age: \")\n",
    "localtime = time.localtime(time.time())"
   ]
  },
  {
   "cell_type": "code",
   "execution_count": 6,
   "id": "915d0a66",
   "metadata": {},
   "outputs": [],
   "source": [
    "year = int(age)\n",
    "month = year * 12 + localtime.tm_mon\n",
    "day = 0"
   ]
  },
  {
   "cell_type": "code",
   "execution_count": 7,
   "id": "e87c1f2d",
   "metadata": {},
   "outputs": [],
   "source": [
    "begin_year = int(localtime.tm_year) - year\n",
    "end_year = begin_year + year"
   ]
  },
  {
   "cell_type": "code",
   "execution_count": 8,
   "id": "6868e13b",
   "metadata": {},
   "outputs": [],
   "source": [
    "# calculate the days\n",
    "for y in range(begin_year, end_year):\n",
    "    if (judge_leap_year(y)):\n",
    "        day = day + 366\n",
    "    else:\n",
    "        day = day + 365"
   ]
  },
  {
   "cell_type": "code",
   "execution_count": 9,
   "id": "86e88ac3",
   "metadata": {},
   "outputs": [],
   "source": [
    "leap_year = judge_leap_year(localtime.tm_year)\n",
    "for m in range(1, localtime.tm_mon):\n",
    "    day = day + month_days(m, leap_year)"
   ]
  },
  {
   "cell_type": "code",
   "execution_count": 11,
   "id": "1527664c",
   "metadata": {},
   "outputs": [
    {
     "name": "stdout",
     "output_type": "stream",
     "text": [
      "Alix's age is 31 years old or 382 months or 11620 days\n"
     ]
    }
   ],
   "source": [
    "day = day + localtime.tm_mday\n",
    "print(\"%s's age is %d years old or \" % (name, year), end=\"\")\n",
    "print(\"%d months or %d days\" % (month, day))"
   ]
  },
  {
   "cell_type": "code",
   "execution_count": null,
   "id": "f7e52942",
   "metadata": {},
   "outputs": [],
   "source": []
  }
 ],
 "metadata": {
  "kernelspec": {
   "display_name": "Python 3 (ipykernel)",
   "language": "python",
   "name": "python3"
  },
  "language_info": {
   "codemirror_mode": {
    "name": "ipython",
    "version": 3
   },
   "file_extension": ".py",
   "mimetype": "text/x-python",
   "name": "python",
   "nbconvert_exporter": "python",
   "pygments_lexer": "ipython3",
   "version": "3.9.12"
  }
 },
 "nbformat": 4,
 "nbformat_minor": 5
}
