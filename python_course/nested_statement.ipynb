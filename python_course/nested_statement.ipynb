{
 "cells": [
  {
   "cell_type": "code",
   "execution_count": 5,
   "id": "906b888e",
   "metadata": {},
   "outputs": [
    {
     "name": "stdout",
     "output_type": "stream",
     "text": [
      "enter your height in m: 180\n"
     ]
    }
   ],
   "source": [
    "height = int(input(\"enter your height in m: \"))\n"
   ]
  },
  {
   "cell_type": "code",
   "execution_count": 13,
   "id": "b031862e",
   "metadata": {},
   "outputs": [
    {
     "name": "stdout",
     "output_type": "stream",
     "text": [
      "enter your height in m: 160\n"
     ]
    }
   ],
   "source": [
    "height = int(input(\"enter your height in m: \"))\n"
   ]
  },
  {
   "cell_type": "code",
   "execution_count": 14,
   "id": "018514ac",
   "metadata": {},
   "outputs": [
    {
     "name": "stdout",
     "output_type": "stream",
     "text": [
      "You can ride the rollercoaster ! \n",
      "what is your age?: 16\n",
      "you pay $7.\n"
     ]
    }
   ],
   "source": [
    "if height >= 120: \n",
    "    print(\"You can ride the rollercoaster ! \")\n",
    "    age= int(input('what is your age?: '))\n",
    "    if age <= 18:\n",
    "        print('you pay $7.')\n",
    "    else:\n",
    "            print('you pay $12.')\n",
    "else:\n",
    "    print(\"sorry you can't ride the rollercoaster\")    "
   ]
  },
  {
   "cell_type": "code",
   "execution_count": 7,
   "id": "189a3ed5",
   "metadata": {},
   "outputs": [],
   "source": [
    "##  nested statement with elif"
   ]
  },
  {
   "cell_type": "code",
   "execution_count": 15,
   "id": "e3bdabb2",
   "metadata": {},
   "outputs": [
    {
     "name": "stdout",
     "output_type": "stream",
     "text": [
      "You can ride the rollercoaster ! \n",
      "what is your age?: 15\n",
      "you pay $5.\n"
     ]
    }
   ],
   "source": [
    "if height >= 120: \n",
    "    print(\"You can ride the rollercoaster ! \")\n",
    "    age= int(input('what is your age?: '))\n",
    "    if age <= 1:\n",
    "        print('you pay $5.')\n",
    "    elif age <= 18:\n",
    "        print ('you pay $7')\n",
    "    else:\n",
    "            print('you pay $12.')\n",
    "else:\n",
    "    print(\"sorry you can't ride the rollercoaster\")    "
   ]
  },
  {
   "cell_type": "code",
   "execution_count": null,
   "id": "bfacc5ce",
   "metadata": {},
   "outputs": [],
   "source": []
  }
 ],
 "metadata": {
  "kernelspec": {
   "display_name": "Python 3 (ipykernel)",
   "language": "python",
   "name": "python3"
  },
  "language_info": {
   "codemirror_mode": {
    "name": "ipython",
    "version": 3
   },
   "file_extension": ".py",
   "mimetype": "text/x-python",
   "name": "python",
   "nbconvert_exporter": "python",
   "pygments_lexer": "ipython3",
   "version": "3.9.12"
  }
 },
 "nbformat": 4,
 "nbformat_minor": 5
}
