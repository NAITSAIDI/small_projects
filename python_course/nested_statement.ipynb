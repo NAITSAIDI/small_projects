{
 "cells": [
  {
   "cell_type": "code",
   "execution_count": 5,
   "id": "e3502ffe",
   "metadata": {},
   "outputs": [
    {
     "name": "stdout",
     "output_type": "stream",
     "text": [
      "enter your height in m: 180\n"
     ]
    }
   ],
   "source": [
    "height = int(input(\"enter your height in m: \"))\n"
   ]
  },
  {
   "cell_type": "code",
   "execution_count": null,
   "id": "0c5370ac",
   "metadata": {},
   "outputs": [],
   "source": [
    "Age = int(input(\"enter your Age: \"))\n"
   ]
  },
  {
   "cell_type": "code",
   "execution_count": 14,
   "id": "1a2478ec",
   "metadata": {},
   "outputs": [
    {
     "name": "stdout",
     "output_type": "stream",
     "text": [
      "You can ride the rollercoaster ! \n",
      "what is your age?: 16\n",
      "you pay $7.\n"
     ]
    }
   ],
   "source": [
    "if height >= 120: \n",
    "    print(\"You can ride the rollercoaster ! \")\n",
    "    age= int(input('what is your age?: '))\n",
    "    if age <= 18:\n",
    "        print('you pay $7.')\n",
    "    else:\n",
    "            print('you pay $12.')\n",
    "else:\n",
    "    print(\"sorry you can't ride the rollercoaster\")    "
   ]
  },
  {
   "cell_type": "code",
   "execution_count": 7,
   "id": "5af55fe0",
   "metadata": {},
   "outputs": [],
   "source": [
    "##  nested statement with elif"
   ]
  },
  {
   "cell_type": "code",
   "execution_count": 17,
   "id": "963d38a8",
   "metadata": {},
   "outputs": [
    {
     "name": "stdout",
     "output_type": "stream",
     "text": [
      "You can ride the rollercoaster ! \n",
      "what is your age?: 5\n",
      "you pay $5.\n"
     ]
    }
   ],
   "source": [
    "if height >= 120: \n",
    "    print(\"You can ride the rollercoaster ! \")\n",
    "    age= int(input('what is your age?: '))\n",
    "    if age <= 12:\n",
    "        print('you pay $5.')\n",
    "        \n",
    "    elif age <= 18:\n",
    "        print ('you pay $7')\n",
    "      \n",
    "    else:\n",
    "            print('you pay $12.')\n",
    "\n",
    "else:\n",
    "    print(\"sorry you can't ride the rollercoaster\")    "
   ]
  },
  {
   "cell_type": "markdown",
   "id": "7615dcf0",
   "metadata": {},
   "source": [
    "## Let's add Another condition\n",
    "\n"
   ]
  },
  {
   "cell_type": "code",
   "execution_count": 1,
   "id": "42d2724e",
   "metadata": {},
   "outputs": [
    {
     "name": "stdout",
     "output_type": "stream",
     "text": [
      "enter your height in m: 180\n"
     ]
    }
   ],
   "source": [
    "height = int(input(\"enter your height in m: \"))\n"
   ]
  },
  {
   "cell_type": "code",
   "execution_count": 6,
   "id": "f7f58ab1",
   "metadata": {},
   "outputs": [
    {
     "name": "stdout",
     "output_type": "stream",
     "text": [
      "You can ride the rollercoaster ! \n",
      "what is your age?: 18\n",
      "Youth ticket is $7\n",
      "Do you want a photo? Y or N Y\n",
      "your final bill is 10\n"
     ]
    }
   ],
   "source": [
    "if height >= 120: \n",
    "    print(\"You can ride the rollercoaster ! \")\n",
    "    age= int(input('what is your age?: '))\n",
    "    if age <= 12:\n",
    "        bill= 5\n",
    "        print('The child ticket is $5.')\n",
    "         \n",
    "    elif age <= 18:\n",
    "        print ('Youth ticket is $7')\n",
    "        bill = 7\n",
    "    else:\n",
    "            print('Adult ticket is $12.')\n",
    "            bill = 12 \n",
    "    want_photo= input(\"Do you want a photo? Y or N \")\n",
    "    if want_photo == \"Y\":\n",
    "        bill = bill + 3   # I can also write bill += 3\n",
    "    print(f\"your final bill is {bill}\")\n",
    "        \n",
    "        \n",
    "    \n",
    "else:\n",
    "    print(\"sorry you can't ride the rollercoaster\")    "
   ]
  },
  {
   "cell_type": "code",
   "execution_count": null,
   "id": "dd801efd",
   "metadata": {},
   "outputs": [],
   "source": []
  },
  {
   "cell_type": "markdown",
   "id": "6b135195",
   "metadata": {},
   "source": [
    "## BMI Second Challenge calculate + nested statement with the interpretation of the result :"
   ]
  },
  {
   "cell_type": "code",
   "execution_count": 4,
   "id": "9a19115d",
   "metadata": {},
   "outputs": [
    {
     "name": "stdout",
     "output_type": "stream",
     "text": [
      "enter your height in m: 1.5\n",
      "enter your weight in KG: 80\n"
     ]
    }
   ],
   "source": [
    "height = float(input(\"enter your height in m: \"))\n",
    "weight = int(input(\"enter your weight in KG: \"))"
   ]
  },
  {
   "cell_type": "code",
   "execution_count": 5,
   "id": "99677ad3",
   "metadata": {},
   "outputs": [
    {
     "data": {
      "text/plain": [
       "36"
      ]
     },
     "execution_count": 5,
     "metadata": {},
     "output_type": "execute_result"
    }
   ],
   "source": [
    "\n",
    "bmi = round(weight / height**2)\n",
    "bmi"
   ]
  },
  {
   "cell_type": "code",
   "execution_count": 8,
   "id": "da554603",
   "metadata": {},
   "outputs": [
    {
     "name": "stdout",
     "output_type": "stream",
     "text": [
      "your bmi is 36, 'you are clinically obese\n"
     ]
    }
   ],
   "source": [
    "\n",
    "if bmi <18.5:\n",
    "    print (f\"your bmi is {bmi}, you are underweight\")\n",
    "elif bmi < 25:\n",
    "    print (f\"your bmi is {bmi}, Your weight is normal\")\n",
    "elif bmi < 30:\n",
    "    print(f\"your bmi is {bmi}, you are overweight\")\n",
    "elif bmi < 35:\n",
    "    print (f\"your bmi is {bmi}, you are obese\")\n",
    "else:\n",
    "    print (f\"your bmi is {bmi}, 'you are clinically obese\")"
   ]
  },
  {
   "cell_type": "code",
   "execution_count": null,
   "id": "eb0a7a90",
   "metadata": {},
   "outputs": [],
   "source": []
  },
  {
   "cell_type": "code",
   "execution_count": null,
   "id": "5d206c47",
   "metadata": {},
   "outputs": [],
   "source": []
  }
 ],
 "metadata": {
  "kernelspec": {
   "display_name": "Python 3 (ipykernel)",
   "language": "python",
   "name": "python3"
  },
  "language_info": {
   "codemirror_mode": {
    "name": "ipython",
    "version": 3
   },
   "file_extension": ".py",
   "mimetype": "text/x-python",
   "name": "python",
   "nbconvert_exporter": "python",
   "pygments_lexer": "ipython3",
   "version": "3.9.12"
  }
 },
 "nbformat": 4,
 "nbformat_minor": 5
}
