{
 "cells": [
  {
   "cell_type": "markdown",
   "id": "f2dff122",
   "metadata": {},
   "source": [
    "# Love Score Calculator "
   ]
  },
  {
   "cell_type": "code",
   "execution_count": 68,
   "id": "89beacfe",
   "metadata": {},
   "outputs": [],
   "source": [
    "name1= \"Alix NAIT SAIDI\"\n",
    "name2= \"Alexander Butler\""
   ]
  },
  {
   "cell_type": "code",
   "execution_count": 69,
   "id": "778ec725",
   "metadata": {},
   "outputs": [],
   "source": [
    "combined_names= name1 + name2"
   ]
  },
  {
   "cell_type": "code",
   "execution_count": 70,
   "id": "2443f64a",
   "metadata": {},
   "outputs": [
    {
     "data": {
      "text/plain": [
       "'Alix NAIT SAIDIAlexander Butler'"
      ]
     },
     "execution_count": 70,
     "metadata": {},
     "output_type": "execute_result"
    }
   ],
   "source": [
    "combined_names"
   ]
  },
  {
   "cell_type": "code",
   "execution_count": 71,
   "id": "20d3fa6c",
   "metadata": {},
   "outputs": [],
   "source": [
    "combined_names_lower = combined_names.lower()\n"
   ]
  },
  {
   "cell_type": "code",
   "execution_count": 72,
   "id": "02c7af5f",
   "metadata": {},
   "outputs": [],
   "source": [
    "t= combined_names_lower.count(\"t\")\n",
    "r= combined_names_lower.count(\"r\")\n",
    "u= combined_names_lower.count(\"u\")\n",
    "e= combined_names_lower.count(\"e\")\n"
   ]
  },
  {
   "cell_type": "code",
   "execution_count": 73,
   "id": "dc69f7cc",
   "metadata": {},
   "outputs": [
    {
     "data": {
      "text/plain": [
       "8"
      ]
     },
     "execution_count": 73,
     "metadata": {},
     "output_type": "execute_result"
    }
   ],
   "source": [
    "true= t+r+u+e\n",
    "true"
   ]
  },
  {
   "cell_type": "code",
   "execution_count": 74,
   "id": "eb6ce79e",
   "metadata": {},
   "outputs": [],
   "source": [
    "l= combined_names_lower.count(\"l\")\n",
    "o= combined_names_lower.count(\"o\")\n",
    "v= combined_names_lower.count(\"v\")\n",
    "e= combined_names_lower.count(\"e\")\n"
   ]
  },
  {
   "cell_type": "code",
   "execution_count": 75,
   "id": "a08068e4",
   "metadata": {},
   "outputs": [
    {
     "data": {
      "text/plain": [
       "6"
      ]
     },
     "execution_count": 75,
     "metadata": {},
     "output_type": "execute_result"
    }
   ],
   "source": [
    "love= l+o+v+e\n",
    "love"
   ]
  },
  {
   "cell_type": "code",
   "execution_count": 76,
   "id": "fbb07ee7",
   "metadata": {},
   "outputs": [
    {
     "name": "stdout",
     "output_type": "stream",
     "text": [
      "86\n"
     ]
    }
   ],
   "source": [
    "love_score= int(str(true)+str(love))\n",
    "print (love_score)"
   ]
  },
  {
   "cell_type": "code",
   "execution_count": 77,
   "id": "ca42339b",
   "metadata": {},
   "outputs": [],
   "source": [
    "# Conditional statement part: "
   ]
  },
  {
   "cell_type": "code",
   "execution_count": 78,
   "id": "01713284",
   "metadata": {},
   "outputs": [
    {
     "name": "stdout",
     "output_type": "stream",
     "text": [
      "Your love score is 86\n"
     ]
    }
   ],
   "source": [
    "if love_score < 10 or love_score > 90:\n",
    "    print(f\"Your love score is {love_score} you go together like Koke and Mentos\")\n",
    "elif love_score >= 40 and love_score <= 50: \n",
    "    print(\"f'Your love score is{love_score} you are alright together\")\n",
    "else:\n",
    "    print(f\"Your love score is {love_score}\")\n",
    "\n",
    "        \n",
    "          "
   ]
  },
  {
   "cell_type": "code",
   "execution_count": null,
   "id": "36a2e724",
   "metadata": {},
   "outputs": [],
   "source": []
  },
  {
   "cell_type": "code",
   "execution_count": null,
   "id": "a3e6e7a5",
   "metadata": {},
   "outputs": [],
   "source": []
  },
  {
   "cell_type": "code",
   "execution_count": null,
   "id": "b436dcc6",
   "metadata": {},
   "outputs": [],
   "source": []
  }
 ],
 "metadata": {
  "kernelspec": {
   "display_name": "Python 3 (ipykernel)",
   "language": "python",
   "name": "python3"
  },
  "language_info": {
   "codemirror_mode": {
    "name": "ipython",
    "version": 3
   },
   "file_extension": ".py",
   "mimetype": "text/x-python",
   "name": "python",
   "nbconvert_exporter": "python",
   "pygments_lexer": "ipython3",
   "version": "3.9.12"
  }
 },
 "nbformat": 4,
 "nbformat_minor": 5
}
