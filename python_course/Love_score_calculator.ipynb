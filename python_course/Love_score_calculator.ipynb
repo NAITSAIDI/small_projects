{
 "cells": [
  {
   "cell_type": "markdown",
   "id": "0a10a010",
   "metadata": {},
   "source": [
    "# Love Score Calculator "
   ]
  },
  {
   "cell_type": "code",
   "execution_count": 1,
   "id": "89beacfe",
   "metadata": {},
   "outputs": [],
   "source": [
    "name1= \"Alix NAIT SAIDI\"\n",
    "name2= \"Alex Misic\""
   ]
  },
  {
   "cell_type": "code",
   "execution_count": 2,
   "id": "053d475a",
   "metadata": {},
   "outputs": [],
   "source": [
    "combined_names= name1 + name2"
   ]
  },
  {
   "cell_type": "code",
   "execution_count": 3,
   "id": "890d5772",
   "metadata": {},
   "outputs": [
    {
     "data": {
      "text/plain": [
       "'Alix NAIT SAIDIAlex Misic'"
      ]
     },
     "execution_count": 3,
     "metadata": {},
     "output_type": "execute_result"
    }
   ],
   "source": [
    "combined_names"
   ]
  },
  {
   "cell_type": "code",
   "execution_count": 6,
   "id": "506ad29c",
   "metadata": {},
   "outputs": [],
   "source": [
    "combined_names_lower = combined_names.lower()\n"
   ]
  },
  {
   "cell_type": "code",
   "execution_count": 7,
   "id": "5f1d68b0",
   "metadata": {},
   "outputs": [],
   "source": [
    "t= combined_names_lower.count(\"t\")\n",
    "r= combined_names_lower.count(\"r\")\n",
    "u= combined_names_lower.count(\"u\")\n",
    "e= combined_names_lower.count(\"e\")\n"
   ]
  },
  {
   "cell_type": "code",
   "execution_count": 9,
   "id": "d38ad95d",
   "metadata": {},
   "outputs": [
    {
     "data": {
      "text/plain": [
       "2"
      ]
     },
     "execution_count": 9,
     "metadata": {},
     "output_type": "execute_result"
    }
   ],
   "source": [
    "true= t+r+u+e\n",
    "true"
   ]
  },
  {
   "cell_type": "code",
   "execution_count": 10,
   "id": "3832567b",
   "metadata": {},
   "outputs": [],
   "source": [
    "l= combined_names_lower.count(\"l\")\n",
    "o= combined_names_lower.count(\"o\")\n",
    "v= combined_names_lower.count(\"v\")\n",
    "e= combined_names_lower.count(\"e\")\n"
   ]
  },
  {
   "cell_type": "code",
   "execution_count": 12,
   "id": "1ed1037d",
   "metadata": {},
   "outputs": [
    {
     "data": {
      "text/plain": [
       "3"
      ]
     },
     "execution_count": 12,
     "metadata": {},
     "output_type": "execute_result"
    }
   ],
   "source": [
    "love= l+o+v+e\n",
    "love"
   ]
  },
  {
   "cell_type": "code",
   "execution_count": 19,
   "id": "b9bcd620",
   "metadata": {},
   "outputs": [
    {
     "name": "stdout",
     "output_type": "stream",
     "text": [
      "23%\n"
     ]
    }
   ],
   "source": [
    "love_score= str(true)+str(love)\n",
    "print (love_score+\"%\")"
   ]
  },
  {
   "cell_type": "code",
   "execution_count": null,
   "id": "470653e5",
   "metadata": {},
   "outputs": [],
   "source": []
  }
 ],
 "metadata": {
  "kernelspec": {
   "display_name": "Python 3 (ipykernel)",
   "language": "python",
   "name": "python3"
  },
  "language_info": {
   "codemirror_mode": {
    "name": "ipython",
    "version": 3
   },
   "file_extension": ".py",
   "mimetype": "text/x-python",
   "name": "python",
   "nbconvert_exporter": "python",
   "pygments_lexer": "ipython3",
   "version": "3.9.12"
  }
 },
 "nbformat": 4,
 "nbformat_minor": 5
}
