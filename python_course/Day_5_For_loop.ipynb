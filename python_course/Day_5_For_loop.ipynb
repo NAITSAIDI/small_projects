{
 "cells": [
  {
   "cell_type": "code",
   "execution_count": 3,
   "id": "fba4c4c5",
   "metadata": {},
   "outputs": [],
   "source": [
    "#Basic example\n",
    "fruits= [\"Apple\", \"Banana\", \"Watermelon\", \"Orange\"]"
   ]
  },
  {
   "cell_type": "code",
   "execution_count": 22,
   "id": "c769fe31",
   "metadata": {},
   "outputs": [
    {
     "name": "stdout",
     "output_type": "stream",
     "text": [
      "Apple\n",
      "Banana\n",
      "Watermelon\n",
      "Orange\n"
     ]
    }
   ],
   "source": [
    "for fruit in fruits:\n",
    "    print (fruit)"
   ]
  },
  {
   "cell_type": "code",
   "execution_count": 23,
   "id": "3e2975bd",
   "metadata": {},
   "outputs": [
    {
     "name": "stdout",
     "output_type": "stream",
     "text": [
      "Apple\n",
      "Apple pie\n",
      "Banana\n",
      "Banana pie\n",
      "Watermelon\n",
      "Watermelon pie\n",
      "Orange\n",
      "Orange pie\n",
      "['Apple', 'Banana', 'Watermelon', 'Orange']\n"
     ]
    }
   ],
   "source": [
    "# The idented lines fall in the loop but the last line which is not indented prints only once. \n",
    "for fruit in fruits:\n",
    "    print (fruit)\n",
    "    print (fruit +\" pie\")\n",
    "print (fruits)"
   ]
  },
  {
   "cell_type": "markdown",
   "id": "00bc1b57",
   "metadata": {},
   "source": [
    "## Average Height "
   ]
  },
  {
   "cell_type": "code",
   "execution_count": 24,
   "id": "2da04c78",
   "metadata": {},
   "outputs": [],
   "source": [
    "student_heights = 180 124 165 173 189 169 146"
   ]
  },
  {
   "cell_type": "code",
   "execution_count": 65,
   "id": "17a65aa5",
   "metadata": {},
   "outputs": [
    {
     "name": "stdout",
     "output_type": "stream",
     "text": [
      "Input a list of student heights 180 124 165 173 189 169 146\n"
     ]
    }
   ],
   "source": [
    "# 🚨 Don't change the code below 👇\n",
    "student_heights = input(\"Input a list of student heights \").split()\n"
   ]
  },
  {
   "cell_type": "code",
   "execution_count": 67,
   "id": "ab743a36",
   "metadata": {},
   "outputs": [],
   "source": [
    "for n in range(0, len(student_heights)):\n",
    "    student_heights[n] = int(student_heights[n])\n"
   ]
  },
  {
   "cell_type": "code",
   "execution_count": 68,
   "id": "d3f4ca9f",
   "metadata": {},
   "outputs": [
    {
     "name": "stdout",
     "output_type": "stream",
     "text": [
      "1146\n"
     ]
    }
   ],
   "source": [
    "total_height = 0\n",
    "for height in student_heights:\n",
    "    total_height  += height\n",
    "print (total_height)"
   ]
  },
  {
   "cell_type": "code",
   "execution_count": 70,
   "id": "7ee1ba0c",
   "metadata": {},
   "outputs": [
    {
     "name": "stdout",
     "output_type": "stream",
     "text": [
      "7\n"
     ]
    }
   ],
   "source": [
    "number_of_students = 0\n",
    "for student in student_heights:\n",
    "    number_of_students += 1\n",
    "print (number_of_students)"
   ]
  },
  {
   "cell_type": "code",
   "execution_count": 73,
   "id": "681e2164",
   "metadata": {},
   "outputs": [
    {
     "data": {
      "text/plain": [
       "164"
      ]
     },
     "execution_count": 73,
     "metadata": {},
     "output_type": "execute_result"
    }
   ],
   "source": [
    "student_average_height = round(total_height / number_of_students)\n",
    "student_average_height"
   ]
  },
  {
   "cell_type": "markdown",
   "id": "594ad1ed",
   "metadata": {},
   "source": [
    "### Easy Version without the for Loop "
   ]
  },
  {
   "cell_type": "code",
   "execution_count": null,
   "id": "848cc9dd",
   "metadata": {},
   "outputs": [],
   "source": []
  },
  {
   "cell_type": "code",
   "execution_count": 44,
   "id": "c0604b6f",
   "metadata": {},
   "outputs": [],
   "source": [
    "total_height = sum(student_heights)"
   ]
  },
  {
   "cell_type": "code",
   "execution_count": 48,
   "id": "34fc54a9",
   "metadata": {},
   "outputs": [
    {
     "data": {
      "text/plain": [
       "164"
      ]
     },
     "execution_count": 48,
     "metadata": {},
     "output_type": "execute_result"
    }
   ],
   "source": [
    "Average_height = round(total_height / len(student_heights))\n",
    "Average_height"
   ]
  },
  {
   "cell_type": "markdown",
   "id": "8559c046",
   "metadata": {},
   "source": [
    "### Exercise 2: Students' highest score \n"
   ]
  },
  {
   "cell_type": "code",
   "execution_count": 88,
   "id": "246d76cb",
   "metadata": {},
   "outputs": [
    {
     "name": "stdout",
     "output_type": "stream",
     "text": [
      "Input a list of student scores 78 65 89 86 55 91 64 89\n",
      "[78, 65, 89, 86, 55, 91, 64, 89]\n"
     ]
    }
   ],
   "source": [
    "student_scores = input(\"Input a list of student scores \").split()\n",
    "for n in range(0, len(student_scores)):\n",
    "    student_scores[n] = int(student_scores[n])\n",
    "print(student_scores)\n",
    "# 🚨 Don't change the code above 👆\n",
    "\n",
    "#Write your code below this row 👇"
   ]
  },
  {
   "cell_type": "code",
   "execution_count": 89,
   "id": "9f4a0b4a",
   "metadata": {},
   "outputs": [],
   "source": [
    "# My method\n",
    "#for score in student_scores:\n",
    "    #student_highest_score = max(student_scores)\n",
    "#student_highest_score"
   ]
  },
  {
   "cell_type": "code",
   "execution_count": 95,
   "id": "ee2231fc",
   "metadata": {},
   "outputs": [
    {
     "name": "stdout",
     "output_type": "stream",
     "text": [
      "The highest score is: 91\n"
     ]
    }
   ],
   "source": [
    "# Correction \n",
    "highest_score = 0\n",
    "for score in student_scores:\n",
    "    if score > highest_score:\n",
    "        highest_score = score\n",
    "print(f\"The highest score is: {highest_score}\")"
   ]
  },
  {
   "cell_type": "markdown",
   "id": "62094e55",
   "metadata": {},
   "source": [
    "### For Loop using Range()"
   ]
  },
  {
   "cell_type": "code",
   "execution_count": 99,
   "id": "3ca0b7ca",
   "metadata": {},
   "outputs": [
    {
     "name": "stdout",
     "output_type": "stream",
     "text": [
      "1\n",
      "4\n",
      "7\n",
      "10\n"
     ]
    }
   ],
   "source": [
    "for n in range (1, 11, 3): # the 3 here is a step\n",
    "    print(n)"
   ]
  },
  {
   "cell_type": "code",
   "execution_count": 105,
   "id": "b4f04dd3",
   "metadata": {},
   "outputs": [
    {
     "name": "stdout",
     "output_type": "stream",
     "text": [
      "5050\n"
     ]
    }
   ],
   "source": [
    "total= 0\n",
    "for n in range (1, 101):\n",
    "    total += n \n",
    "print(total)"
   ]
  },
  {
   "cell_type": "code",
   "execution_count": 122,
   "id": "427422be",
   "metadata": {},
   "outputs": [
    {
     "name": "stdout",
     "output_type": "stream",
     "text": [
      "2550\n"
     ]
    }
   ],
   "source": [
    "total_even= 0\n",
    "for number in range (2, 101, 2):\n",
    "    total_even += number\n",
    "print (total_even)\n",
    "    "
   ]
  },
  {
   "cell_type": "markdown",
   "id": "65b7783d",
   "metadata": {},
   "source": [
    "##  Another ways to do it "
   ]
  },
  {
   "cell_type": "code",
   "execution_count": 130,
   "id": "3d85f10d",
   "metadata": {},
   "outputs": [
    {
     "name": "stdout",
     "output_type": "stream",
     "text": [
      "2550\n"
     ]
    }
   ],
   "source": [
    "total2_even = 0\n",
    "for number in range (1, 101):\n",
    "    if number % 2 == 0:  # use the modulo to get the even nums \n",
    "        total2_even += number\n",
    "print(total2_even)\n",
    "    "
   ]
  },
  {
   "cell_type": "markdown",
   "id": "9adf8702",
   "metadata": {},
   "source": [
    "## FizzBuzz program"
   ]
  },
  {
   "cell_type": "code",
   "execution_count": 156,
   "id": "a9aeb745",
   "metadata": {},
   "outputs": [
    {
     "ename": "IndentationError",
     "evalue": "expected an indented block (323946164.py, line 13)",
     "output_type": "error",
     "traceback": [
      "\u001b[0;36m  Input \u001b[0;32mIn [156]\u001b[0;36m\u001b[0m\n\u001b[0;31m    \u001b[0m\n\u001b[0m    ^\u001b[0m\n\u001b[0;31mIndentationError\u001b[0m\u001b[0;31m:\u001b[0m expected an indented block\n"
     ]
    }
   ],
   "source": [
    "for n in range(1, 101):\n",
    "    if n % 3 == 0 & n % 5 == 0:\n",
    "        print(\"FizzBuzz\")\n",
    "    elif n % 3 == 0:\n",
    "        print (\"Fizz\")\n",
    "    elif n % 5 == 0:\n",
    "        print (\"BUzz\")\n",
    "    else:\n",
    "        #print(n)\n",
    " \n",
    "        \n",
    "        \n",
    "       "
   ]
  },
  {
   "cell_type": "markdown",
   "id": "7fb4eac1",
   "metadata": {},
   "source": [
    "## Password Generator: \n"
   ]
  },
  {
   "cell_type": "code",
   "execution_count": 169,
   "id": "12d7143f",
   "metadata": {},
   "outputs": [
    {
     "name": "stdout",
     "output_type": "stream",
     "text": [
      "Welcome to the PyPassword Generator!\n",
      "How many letters would you like in your password?\n",
      "4\n",
      "How many symbols would you like?\n",
      "4\n",
      "How many numbers would you like?\n",
      "4\n"
     ]
    }
   ],
   "source": [
    "#Password Generator Project\n",
    "import random\n",
    "import string\n",
    "letters = ['a', 'b', 'c', 'd', 'e', 'f', 'g', 'h', 'i', 'j', 'k', 'l', 'm', 'n', 'o', 'p', 'q', 'r', 's', 't', 'u', 'v', 'w', 'x', 'y', 'z', 'A', 'B', 'C', 'D', 'E', 'F', 'G', 'H', 'I', 'J', 'K', 'L', 'M', 'N', 'O', 'P', 'Q', 'R', 'S', 'T', 'U', 'V', 'W', 'X', 'Y', 'Z']\n",
    "numbers = ['0', '1', '2', '3', '4', '5', '6', '7', '8', '9']\n",
    "symbols = ['!', '#', '$', '%', '&', '(', ')', '*', '+']\n",
    "\n",
    "print(\"Welcome to the PyPassword Generator!\")\n",
    "nr_letters= int(input(\"How many letters would you like in your password?\\n\")) \n",
    "nr_symbols = int(input(f\"How many symbols would you like?\\n\"))\n",
    "nr_numbers = int(input(f\"How many numbers would you like?\\n\"))\n"
   ]
  },
  {
   "cell_type": "markdown",
   "id": "54c6d15f",
   "metadata": {},
   "source": [
    "###  Easy Random not random version "
   ]
  },
  {
   "cell_type": "code",
   "execution_count": 185,
   "id": "8c8e33fa",
   "metadata": {},
   "outputs": [
    {
     "name": "stdout",
     "output_type": "stream",
     "text": [
      "bhxs$#!!9909\n"
     ]
    }
   ],
   "source": [
    "password= \"\"\n",
    "for char in range (1,nr_letters + 1):\n",
    "    password += random.choice(letters)\n",
    "for char in range (1, nr_symbols +1):\n",
    "    password += random.choice(symbols)\n",
    "for char in range (1, nr_numbers +1):\n",
    "    password += random.choice(numbers)\n",
    "print (password)\n",
    "    "
   ]
  },
  {
   "cell_type": "markdown",
   "id": "b2e27e82",
   "metadata": {},
   "source": [
    "### Harder Level"
   ]
  },
  {
   "cell_type": "code",
   "execution_count": 203,
   "id": "70451234",
   "metadata": {},
   "outputs": [
    {
     "data": {
      "text/plain": [
       "'g+6o)5uC88%$'"
      ]
     },
     "execution_count": 203,
     "metadata": {},
     "output_type": "execute_result"
    }
   ],
   "source": [
    "password_list= []\n",
    "for char in range (1,nr_letters + 1):\n",
    "    password_list.append(random.choice(letters))  \n",
    "for char in range (1, nr_symbols +1):\n",
    "    password_list += random.choice(symbols)\n",
    "for char in range (1, nr_numbers +1):\n",
    "    password_list += random.choice(numbers)\n",
    "random.shuffle(password_list)\n",
    "\n",
    "password = \"\"\n",
    "for char in password_list: \n",
    "    password += char\n",
    "password\n",
    "    "
   ]
  },
  {
   "cell_type": "code",
   "execution_count": null,
   "id": "4014e128",
   "metadata": {},
   "outputs": [],
   "source": []
  }
 ],
 "metadata": {
  "kernelspec": {
   "display_name": "Python 3 (ipykernel)",
   "language": "python",
   "name": "python3"
  },
  "language_info": {
   "codemirror_mode": {
    "name": "ipython",
    "version": 3
   },
   "file_extension": ".py",
   "mimetype": "text/x-python",
   "name": "python",
   "nbconvert_exporter": "python",
   "pygments_lexer": "ipython3",
   "version": "3.9.12"
  }
 },
 "nbformat": 4,
 "nbformat_minor": 5
}
