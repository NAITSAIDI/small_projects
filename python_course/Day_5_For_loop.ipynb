{
 "cells": [
  {
   "cell_type": "code",
   "execution_count": 3,
   "id": "c188004c",
   "metadata": {},
   "outputs": [],
   "source": [
    "#Basic example\n",
    "fruits= [\"Apple\", \"Banana\", \"Watermelon\", \"Orange\"]"
   ]
  },
  {
   "cell_type": "code",
   "execution_count": 22,
   "id": "68cdbd17",
   "metadata": {},
   "outputs": [
    {
     "name": "stdout",
     "output_type": "stream",
     "text": [
      "Apple\n",
      "Banana\n",
      "Watermelon\n",
      "Orange\n"
     ]
    }
   ],
   "source": [
    "for fruit in fruits:\n",
    "    print (fruit)"
   ]
  },
  {
   "cell_type": "code",
   "execution_count": 23,
   "id": "7cf63a7f",
   "metadata": {},
   "outputs": [
    {
     "name": "stdout",
     "output_type": "stream",
     "text": [
      "Apple\n",
      "Apple pie\n",
      "Banana\n",
      "Banana pie\n",
      "Watermelon\n",
      "Watermelon pie\n",
      "Orange\n",
      "Orange pie\n",
      "['Apple', 'Banana', 'Watermelon', 'Orange']\n"
     ]
    }
   ],
   "source": [
    "# The idented lines fall in the loop but the last line which is not indented prints only once. \n",
    "for fruit in fruits:\n",
    "    print (fruit)\n",
    "    print (fruit +\" pie\")\n",
    "print (fruits)"
   ]
  },
  {
   "cell_type": "markdown",
   "id": "69262643",
   "metadata": {},
   "source": [
    "## Average Height "
   ]
  },
  {
   "cell_type": "code",
   "execution_count": 24,
   "id": "15e3561e",
   "metadata": {},
   "outputs": [],
   "source": [
    "student_heights = 180 124 165 173 189 169 146"
   ]
  },
  {
   "cell_type": "code",
   "execution_count": 65,
   "id": "f15dfe35",
   "metadata": {},
   "outputs": [
    {
     "name": "stdout",
     "output_type": "stream",
     "text": [
      "Input a list of student heights 180 124 165 173 189 169 146\n"
     ]
    }
   ],
   "source": [
    "# 🚨 Don't change the code below 👇\n",
    "student_heights = input(\"Input a list of student heights \").split()\n"
   ]
  },
  {
   "cell_type": "code",
   "execution_count": 67,
   "id": "4cd54c22",
   "metadata": {},
   "outputs": [],
   "source": [
    "for n in range(0, len(student_heights)):\n",
    "    student_heights[n] = int(student_heights[n])\n"
   ]
  },
  {
   "cell_type": "code",
   "execution_count": 68,
   "id": "5029b5fe",
   "metadata": {},
   "outputs": [
    {
     "name": "stdout",
     "output_type": "stream",
     "text": [
      "1146\n"
     ]
    }
   ],
   "source": [
    "total_height = 0\n",
    "for height in student_heights:\n",
    "    total_height  += height\n",
    "print (total_height)"
   ]
  },
  {
   "cell_type": "code",
   "execution_count": 70,
   "id": "7ac51f7c",
   "metadata": {},
   "outputs": [
    {
     "name": "stdout",
     "output_type": "stream",
     "text": [
      "7\n"
     ]
    }
   ],
   "source": [
    "number_of_students = 0\n",
    "for student in student_heights:\n",
    "    number_of_students += 1\n",
    "print (number_of_students)"
   ]
  },
  {
   "cell_type": "code",
   "execution_count": 73,
   "id": "f9e92466",
   "metadata": {},
   "outputs": [
    {
     "data": {
      "text/plain": [
       "164"
      ]
     },
     "execution_count": 73,
     "metadata": {},
     "output_type": "execute_result"
    }
   ],
   "source": [
    "student_average_height = round(total_height / number_of_students)\n",
    "student_average_height"
   ]
  },
  {
   "cell_type": "markdown",
   "id": "1414e825",
   "metadata": {},
   "source": [
    "### Easy Version without the for Loop "
   ]
  },
  {
   "cell_type": "code",
   "execution_count": null,
   "id": "7c15b5c1",
   "metadata": {},
   "outputs": [],
   "source": []
  },
  {
   "cell_type": "code",
   "execution_count": 44,
   "id": "bac88d0c",
   "metadata": {},
   "outputs": [],
   "source": [
    "total_height = sum(student_heights)"
   ]
  },
  {
   "cell_type": "code",
   "execution_count": 48,
   "id": "4628ba8d",
   "metadata": {},
   "outputs": [
    {
     "data": {
      "text/plain": [
       "164"
      ]
     },
     "execution_count": 48,
     "metadata": {},
     "output_type": "execute_result"
    }
   ],
   "source": [
    "Average_height = round(total_height / len(student_heights))\n",
    "Average_height"
   ]
  },
  {
   "cell_type": "code",
   "execution_count": null,
   "id": "ab910dd9",
   "metadata": {},
   "outputs": [],
   "source": []
  }
 ],
 "metadata": {
  "kernelspec": {
   "display_name": "Python 3 (ipykernel)",
   "language": "python",
   "name": "python3"
  },
  "language_info": {
   "codemirror_mode": {
    "name": "ipython",
    "version": 3
   },
   "file_extension": ".py",
   "mimetype": "text/x-python",
   "name": "python",
   "nbconvert_exporter": "python",
   "pygments_lexer": "ipython3",
   "version": "3.9.12"
  }
 },
 "nbformat": 4,
 "nbformat_minor": 5
}
