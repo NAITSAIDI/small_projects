{
 "cells": [
  {
   "cell_type": "code",
   "execution_count": 3,
   "id": "e33134f5",
   "metadata": {},
   "outputs": [],
   "source": [
    "import random"
   ]
  },
  {
   "cell_type": "code",
   "execution_count": 8,
   "id": "9dbc9e4e",
   "metadata": {},
   "outputs": [
    {
     "data": {
      "text/plain": [
       "37"
      ]
     },
     "execution_count": 8,
     "metadata": {},
     "output_type": "execute_result"
    }
   ],
   "source": [
    "random_number= random.randint(1,100)\n",
    "random_number"
   ]
  },
  {
   "cell_type": "code",
   "execution_count": 15,
   "id": "575716d0",
   "metadata": {},
   "outputs": [
    {
     "data": {
      "text/plain": [
       "0.3902983208917902"
      ]
     },
     "execution_count": 15,
     "metadata": {},
     "output_type": "execute_result"
    }
   ],
   "source": [
    "radom_float= random.random() # this always get me a float between 0 and 1 \n",
    "radom_float"
   ]
  },
  {
   "cell_type": "markdown",
   "id": "19938ec0",
   "metadata": {},
   "source": [
    "Exercise 1: Head or Tails "
   ]
  },
  {
   "cell_type": "code",
   "execution_count": 3,
   "id": "d1a25964",
   "metadata": {},
   "outputs": [
    {
     "name": "stdout",
     "output_type": "stream",
     "text": [
      "Tails\n"
     ]
    }
   ],
   "source": [
    "random_side = random.randint(0,1)\n",
    "if random_side ==1:\n",
    "    print(\"Heads\")\n",
    "else:\n",
    "    print(\"Tails\")"
   ]
  },
  {
   "cell_type": "markdown",
   "id": "e5a26aee",
   "metadata": {},
   "source": [
    "Lists: List of the 50 States of America ordered Alphabetically "
   ]
  },
  {
   "cell_type": "code",
   "execution_count": 4,
   "id": "c799cf49",
   "metadata": {},
   "outputs": [],
   "source": [
    "state_names=[\"Alabama\", \"Alaska\", \"Arizona\", \"Arkansas\", \"California\", \"Colorado\", \"Connecticut\", \"Delaware\", \"Florida\", \"Georgia\", \"Hawaii\", \"Idaho\", \"Illinois\", \"Indiana\", \"Iowa\", \"Kansas\", \"Kentucky\", \"Louisiana\", \"Maine\", \"Maryland\", \"Massachusetts\", \"Michigan\", \"Minnesota\", \"Mississippi\", \"Missouri\", \"Montana\", \"Nebraska\", \"Nevada\", \"New Hampshire\", \"New Jersey\", \"New Mexico\", \"New York\", \"North Carolina\", \"North Dakota\", \"Ohio\", \"Oklahoma\", \"Oregon\", \"Pennsylvania\", \"Rhode Island\", \"South Carolina\", \"South Dakota\", \"Tennessee\", \"Texas\", \"Utah\", \"Vermont\", \"Virginia\", \"Washington\", \"West Virginia\", \"Wisconsin\", \"Wyoming\"]"
   ]
  },
  {
   "cell_type": "code",
   "execution_count": 5,
   "id": "b88f80a6",
   "metadata": {},
   "outputs": [
    {
     "data": {
      "text/plain": [
       "50"
      ]
     },
     "execution_count": 5,
     "metadata": {},
     "output_type": "execute_result"
    }
   ],
   "source": [
    "len(state_names)"
   ]
  },
  {
   "cell_type": "code",
   "execution_count": 14,
   "id": "cfb5b75f",
   "metadata": {},
   "outputs": [],
   "source": [
    "#I can edit pretty easily in a list like this \n",
    "state_names[1]= \"Alaska\""
   ]
  },
  {
   "cell_type": "code",
   "execution_count": 13,
   "id": "fa1f9adc",
   "metadata": {},
   "outputs": [
    {
     "data": {
      "text/plain": [
       "['Alabama',\n",
       " 'Alaska',\n",
       " 'Arizona',\n",
       " 'Arkansas',\n",
       " 'California',\n",
       " 'Colorado',\n",
       " 'Connecticut',\n",
       " 'Delaware',\n",
       " 'Florida',\n",
       " 'Georgia',\n",
       " 'Hawaii',\n",
       " 'Idaho',\n",
       " 'Illinois',\n",
       " 'Indiana',\n",
       " 'Iowa',\n",
       " 'Kansas',\n",
       " 'Kentucky',\n",
       " 'Louisiana',\n",
       " 'Maine',\n",
       " 'Maryland',\n",
       " 'Massachusetts',\n",
       " 'Michigan',\n",
       " 'Minnesota',\n",
       " 'Mississippi',\n",
       " 'Missouri',\n",
       " 'Montana',\n",
       " 'Nebraska',\n",
       " 'Nevada',\n",
       " 'New Hampshire',\n",
       " 'New Jersey',\n",
       " 'New Mexico',\n",
       " 'New York',\n",
       " 'North Carolina',\n",
       " 'North Dakota',\n",
       " 'Ohio',\n",
       " 'Oklahoma',\n",
       " 'Oregon',\n",
       " 'Pennsylvania',\n",
       " 'Rhode Island',\n",
       " 'South Carolina',\n",
       " 'South Dakota',\n",
       " 'Tennessee',\n",
       " 'Texas',\n",
       " 'Utah',\n",
       " 'Vermont',\n",
       " 'Virginia',\n",
       " 'Washington',\n",
       " 'West Virginia',\n",
       " 'Wisconsin',\n",
       " 'Wyoming']"
      ]
     },
     "execution_count": 13,
     "metadata": {},
     "output_type": "execute_result"
    }
   ],
   "source": [
    "state_names"
   ]
  },
  {
   "cell_type": "code",
   "execution_count": 15,
   "id": "348817ce",
   "metadata": {},
   "outputs": [],
   "source": [
    "# I can add to a list by using option .append(), and the new state goes to the end of the list\n",
    "state_names.append(\"Alixland\")"
   ]
  },
  {
   "cell_type": "code",
   "execution_count": 16,
   "id": "485fa76d",
   "metadata": {},
   "outputs": [
    {
     "data": {
      "text/plain": [
       "['Alabama',\n",
       " 'Alaska',\n",
       " 'Arizona',\n",
       " 'Arkansas',\n",
       " 'California',\n",
       " 'Colorado',\n",
       " 'Connecticut',\n",
       " 'Delaware',\n",
       " 'Florida',\n",
       " 'Georgia',\n",
       " 'Hawaii',\n",
       " 'Idaho',\n",
       " 'Illinois',\n",
       " 'Indiana',\n",
       " 'Iowa',\n",
       " 'Kansas',\n",
       " 'Kentucky',\n",
       " 'Louisiana',\n",
       " 'Maine',\n",
       " 'Maryland',\n",
       " 'Massachusetts',\n",
       " 'Michigan',\n",
       " 'Minnesota',\n",
       " 'Mississippi',\n",
       " 'Missouri',\n",
       " 'Montana',\n",
       " 'Nebraska',\n",
       " 'Nevada',\n",
       " 'New Hampshire',\n",
       " 'New Jersey',\n",
       " 'New Mexico',\n",
       " 'New York',\n",
       " 'North Carolina',\n",
       " 'North Dakota',\n",
       " 'Ohio',\n",
       " 'Oklahoma',\n",
       " 'Oregon',\n",
       " 'Pennsylvania',\n",
       " 'Rhode Island',\n",
       " 'South Carolina',\n",
       " 'South Dakota',\n",
       " 'Tennessee',\n",
       " 'Texas',\n",
       " 'Utah',\n",
       " 'Vermont',\n",
       " 'Virginia',\n",
       " 'Washington',\n",
       " 'West Virginia',\n",
       " 'Wisconsin',\n",
       " 'Wyoming',\n",
       " 'Alixland']"
      ]
     },
     "execution_count": 16,
     "metadata": {},
     "output_type": "execute_result"
    }
   ],
   "source": [
    "state_names"
   ]
  },
  {
   "cell_type": "code",
   "execution_count": 18,
   "id": "8a8e8c8f",
   "metadata": {},
   "outputs": [],
   "source": [
    "#I can also extend my list if I want to add another list to the end of my existing list with .extend([the list needs to be here])\n",
    "state_names.extend([\"whateverland\", \"Cool York\"])"
   ]
  },
  {
   "cell_type": "code",
   "execution_count": 19,
   "id": "356a41bc",
   "metadata": {},
   "outputs": [
    {
     "data": {
      "text/plain": [
       "['Alabama',\n",
       " 'Alaska',\n",
       " 'Arizona',\n",
       " 'Arkansas',\n",
       " 'California',\n",
       " 'Colorado',\n",
       " 'Connecticut',\n",
       " 'Delaware',\n",
       " 'Florida',\n",
       " 'Georgia',\n",
       " 'Hawaii',\n",
       " 'Idaho',\n",
       " 'Illinois',\n",
       " 'Indiana',\n",
       " 'Iowa',\n",
       " 'Kansas',\n",
       " 'Kentucky',\n",
       " 'Louisiana',\n",
       " 'Maine',\n",
       " 'Maryland',\n",
       " 'Massachusetts',\n",
       " 'Michigan',\n",
       " 'Minnesota',\n",
       " 'Mississippi',\n",
       " 'Missouri',\n",
       " 'Montana',\n",
       " 'Nebraska',\n",
       " 'Nevada',\n",
       " 'New Hampshire',\n",
       " 'New Jersey',\n",
       " 'New Mexico',\n",
       " 'New York',\n",
       " 'North Carolina',\n",
       " 'North Dakota',\n",
       " 'Ohio',\n",
       " 'Oklahoma',\n",
       " 'Oregon',\n",
       " 'Pennsylvania',\n",
       " 'Rhode Island',\n",
       " 'South Carolina',\n",
       " 'South Dakota',\n",
       " 'Tennessee',\n",
       " 'Texas',\n",
       " 'Utah',\n",
       " 'Vermont',\n",
       " 'Virginia',\n",
       " 'Washington',\n",
       " 'West Virginia',\n",
       " 'Wisconsin',\n",
       " 'Wyoming',\n",
       " 'Alixland',\n",
       " 'whateverland',\n",
       " 'Cool York']"
      ]
     },
     "execution_count": 19,
     "metadata": {},
     "output_type": "execute_result"
    }
   ],
   "source": [
    "state_names"
   ]
  },
  {
   "cell_type": "code",
   "execution_count": 39,
   "id": "dd5a75a6",
   "metadata": {},
   "outputs": [],
   "source": [
    "#  I. get an error because Index 79 doesn't exist £\n",
    "#state_names[79]"
   ]
  },
  {
   "cell_type": "markdown",
   "id": "6996ddd3",
   "metadata": {},
   "source": [
    "### Nested List "
   ]
  },
  {
   "cell_type": "code",
   "execution_count": 40,
   "id": "08ba19a3",
   "metadata": {},
   "outputs": [],
   "source": [
    "#Numbers = [1, 2, 3, 4, 5, 6, 7, 8]"
   ]
  },
  {
   "cell_type": "code",
   "execution_count": 41,
   "id": "22e54029",
   "metadata": {},
   "outputs": [],
   "source": [
    "odd = [1, 3, 5, 7]\n",
    "even =[ 2, 4, 6, 8]"
   ]
  },
  {
   "cell_type": "code",
   "execution_count": 42,
   "id": "73a1044a",
   "metadata": {},
   "outputs": [],
   "source": [
    "Numbers = [odd, even]"
   ]
  },
  {
   "cell_type": "code",
   "execution_count": 43,
   "id": "0d0f0e59",
   "metadata": {},
   "outputs": [
    {
     "data": {
      "text/plain": [
       "[[1, 3, 5, 7], [2, 4, 6, 8]]"
      ]
     },
     "execution_count": 43,
     "metadata": {},
     "output_type": "execute_result"
    }
   ],
   "source": [
    "Numbers "
   ]
  },
  {
   "cell_type": "code",
   "execution_count": null,
   "id": "98fc94d4",
   "metadata": {},
   "outputs": [],
   "source": []
  },
  {
   "cell_type": "markdown",
   "id": "e8daac82",
   "metadata": {},
   "source": [
    "Exercise Banker Roulette "
   ]
  },
  {
   "cell_type": "code",
   "execution_count": 10,
   "id": "cad551dc",
   "metadata": {},
   "outputs": [
    {
     "name": "stdout",
     "output_type": "stream",
     "text": [
      "Angela is going to pay the bill\n"
     ]
    }
   ],
   "source": [
    "\n",
    "\n",
    "#Write your code below this line 👇\n",
    "names_string = (\"Angela, Ben, Jenny, Michael, Chloe \")\n",
    "names = names_string.split(\", \")\n",
    "\n",
    "random_name= random.randint (0,4)\n",
    "if random_name == 0:\n",
    "    print(\"Angela is going to pay the bill\")\n",
    "elif random_name == 1:\n",
    "    print(\"Ben is going to pay the bill\")\n",
    "elif random_name == 2:\n",
    "    print(\" Jenny is going to pay the bill\")\n",
    "elif random_name == 3:\n",
    "    print(\" Michael is going to pay the bill\")\n",
    "else: \n",
    "        print(\" Chloe is going to pay the bill\")"
   ]
  },
  {
   "cell_type": "code",
   "execution_count": 11,
   "id": "4e5c85b7",
   "metadata": {},
   "outputs": [
    {
     "data": {
      "text/plain": [
       "['Angela', 'Ben', 'Jenny', 'Michael', 'Chloe ']"
      ]
     },
     "execution_count": 11,
     "metadata": {},
     "output_type": "execute_result"
    }
   ],
   "source": [
    "names_string = (\"Angela, Ben, Jenny, Michael, Chloe \")\n",
    "names = names_string.split(\", \")\n",
    "names"
   ]
  },
  {
   "cell_type": "code",
   "execution_count": 37,
   "id": "d9fb6765",
   "metadata": {},
   "outputs": [
    {
     "name": "stdout",
     "output_type": "stream",
     "text": [
      "Angela is going to pay today\n"
     ]
    }
   ],
   "source": [
    "Random= random.randint(0, len(names)-1)\n",
    "person_who_pays= names[Random]\n",
    "print(person_who_pays+ ' is going to pay today')"
   ]
  },
  {
   "cell_type": "markdown",
   "id": "377eb69f",
   "metadata": {},
   "source": [
    "Quiz: "
   ]
  },
  {
   "cell_type": "code",
   "execution_count": 44,
   "id": "55b0595c",
   "metadata": {},
   "outputs": [
    {
     "name": "stdout",
     "output_type": "stream",
     "text": [
      "Kale\n"
     ]
    }
   ],
   "source": [
    "fruits = [\"Strawberries\", \"Nectarines\", \"Apples\", \"Grapes\", \"Peaches\", \"Cherries\", \"Pears\"]\n",
    "vegetables = [\"Spinach\", \"Kale\", \"Tomatoes\", \"Celery\", \"Potatoes\"]\n",
    " \n",
    "dirty_dozen = [fruits, vegetables]\n",
    " \n",
    "print(dirty_dozen[1][1])"
   ]
  },
  {
   "cell_type": "code",
   "execution_count": 54,
   "id": "63502ad3",
   "metadata": {},
   "outputs": [],
   "source": [
    "#print(dirty_dozen)\n",
    "\n",
    "\n",
    "#print(dirty_dozen[0])\n",
    "#print(dirty_dozen[1])\n",
    "\n",
    "\n",
    "#print(dirty_dozen[1][2])\n",
    "#print(dirty_dozen[1][3])"
   ]
  },
  {
   "cell_type": "code",
   "execution_count": 55,
   "id": "44ae6b28",
   "metadata": {},
   "outputs": [
    {
     "data": {
      "text/plain": [
       "[['⬜️', '⬜️', '⬜️'], ['⬜️', '⬜️', '⬜️'], ['⬜️', '⬜️', '⬜️']]"
      ]
     },
     "execution_count": 55,
     "metadata": {},
     "output_type": "execute_result"
    }
   ],
   "source": [
    "[['⬜️', '⬜️', '⬜️'],['⬜️', '⬜️', '⬜️'],['⬜️', '⬜️', '⬜️']]"
   ]
  },
  {
   "cell_type": "code",
   "execution_count": 56,
   "id": "00f5e259",
   "metadata": {},
   "outputs": [],
   "source": [
    "rock = '''\n",
    "    _______\n",
    "---'   ____)\n",
    "      (_____)\n",
    "      (_____)\n",
    "      (____)\n",
    "---.__(___)\n",
    "'''\n",
    "\n",
    "paper = '''\n",
    "    _______\n",
    "---'   ____)____\n",
    "          ______)\n",
    "          _______)\n",
    "         _______)\n",
    "---.__________)\n",
    "'''\n",
    "\n",
    "scissors = '''\n",
    "    _______\n",
    "---'   ____)____\n",
    "          ______)\n",
    "       __________)\n",
    "      (____)\n",
    "---.__(___)\n",
    "'''\n"
   ]
  },
  {
   "cell_type": "code",
   "execution_count": 10,
   "id": "d672fa23",
   "metadata": {},
   "outputs": [
    {
     "name": "stdout",
     "output_type": "stream",
     "text": [
      "enter 0 for Rock, 1 for Paper, and 2 for scissors: \n",
      " 1\n",
      "computer chose 2\n"
     ]
    }
   ],
   "source": [
    "\n",
    "user_choice= input(\"enter 0 for Rock, 1 for Paper, and 2 for scissors: \\n \")\n",
    "computer_choice = random.randint (0, 2)\n",
    "print(f\"computer chose {computer_choice}\")"
   ]
  },
  {
   "cell_type": "code",
   "execution_count": 9,
   "id": "a8bae10e",
   "metadata": {},
   "outputs": [],
   "source": []
  },
  {
   "cell_type": "code",
   "execution_count": null,
   "id": "f7c0de04",
   "metadata": {},
   "outputs": [],
   "source": []
  }
 ],
 "metadata": {
  "kernelspec": {
   "display_name": "Python 3 (ipykernel)",
   "language": "python",
   "name": "python3"
  },
  "language_info": {
   "codemirror_mode": {
    "name": "ipython",
    "version": 3
   },
   "file_extension": ".py",
   "mimetype": "text/x-python",
   "name": "python",
   "nbconvert_exporter": "python",
   "pygments_lexer": "ipython3",
   "version": "3.9.12"
  }
 },
 "nbformat": 4,
 "nbformat_minor": 5
}
