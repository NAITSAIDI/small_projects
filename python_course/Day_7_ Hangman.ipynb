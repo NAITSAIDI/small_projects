{
 "cells": [
  {
   "cell_type": "code",
   "execution_count": 85,
   "id": "8f9f2875",
   "metadata": {},
   "outputs": [],
   "source": [
    "#Step 1 \n",
    "\n",
    "word_list = [\"aardvark\", \"baboon\", \"camel\"]\n",
    "\n",
    "#TODO-1 - Randomly choose a word from the word_list and assign it to a variable called chosen_word.\n",
    "\n",
    "#TODO-2 - Ask the user to guess a letter and assign their answer to a variable called guess. Make guess lowercase.\n",
    "\n",
    "#TODO-3 - Check if the letter the user guessed (guess) is one of the letters in the chosen_word.\n"
   ]
  },
  {
   "cell_type": "code",
   "execution_count": 86,
   "id": "f6327331",
   "metadata": {},
   "outputs": [],
   "source": [
    "import random\n",
    "chosen_word = random.choice(word_list)\n"
   ]
  },
  {
   "cell_type": "code",
   "execution_count": 87,
   "id": "1599c2eb",
   "metadata": {},
   "outputs": [
    {
     "name": "stdout",
     "output_type": "stream",
     "text": [
      "Pssst, the solution is aardvark.\n"
     ]
    }
   ],
   "source": [
    "#Testing code\n",
    "print(f'Pssst, the solution is {chosen_word}.')\n"
   ]
  },
  {
   "cell_type": "code",
   "execution_count": 88,
   "id": "4c40b801",
   "metadata": {},
   "outputs": [],
   "source": [
    "# Since I need it to show in a list I need to initialize an empty list\n",
    "display = []"
   ]
  },
  {
   "cell_type": "code",
   "execution_count": 89,
   "id": "2ae131aa",
   "metadata": {},
   "outputs": [
    {
     "name": "stdout",
     "output_type": "stream",
     "text": [
      "['_', '_', '_', '_', '_', '_', '_', '_']\n"
     ]
    }
   ],
   "source": [
    "# this for loop will run through each letter of the word and replace the letters with the Underscore. \n",
    "for i in chosen_word: \n",
    "    display += \"_\"\n",
    "print(display)\n",
    "    "
   ]
  },
  {
   "cell_type": "code",
   "execution_count": 90,
   "id": "86eebeef",
   "metadata": {},
   "outputs": [
    {
     "name": "stdout",
     "output_type": "stream",
     "text": [
      "Guess a letter: a\n",
      "['a', 'a', '_', '_', '_', 'a', '_', '_']\n"
     ]
    }
   ],
   "source": [
    "guess= input(\"Guess a letter: \").lower()\n",
    "for position in range (len(chosen_word)):\n",
    "    letter = chosen_word[position]\n",
    "    if letter == guess:\n",
    "        display[position] = letter\n",
    "print(display)"
   ]
  },
  {
   "cell_type": "code",
   "execution_count": 92,
   "id": "2c00ccfb",
   "metadata": {},
   "outputs": [
    {
     "name": "stdout",
     "output_type": "stream",
     "text": [
      "Right\n",
      "Right\n",
      "Wrong\n",
      "Wrong\n",
      "Wrong\n",
      "Right\n",
      "Wrong\n",
      "Wrong\n"
     ]
    }
   ],
   "source": [
    "# this step came first in the exercise. (just checking if the guessed letter is right or wrong)\n",
    "for letter in chosen_word :\n",
    "    if letter == guess:\n",
    "        print(\"Right\")\n",
    "    else:\n",
    "        print(\"Wrong\")"
   ]
  },
  {
   "cell_type": "code",
   "execution_count": null,
   "id": "57520fcb",
   "metadata": {},
   "outputs": [],
   "source": []
  }
 ],
 "metadata": {
  "kernelspec": {
   "display_name": "Python 3 (ipykernel)",
   "language": "python",
   "name": "python3"
  },
  "language_info": {
   "codemirror_mode": {
    "name": "ipython",
    "version": 3
   },
   "file_extension": ".py",
   "mimetype": "text/x-python",
   "name": "python",
   "nbconvert_exporter": "python",
   "pygments_lexer": "ipython3",
   "version": "3.9.12"
  }
 },
 "nbformat": 4,
 "nbformat_minor": 5
}
