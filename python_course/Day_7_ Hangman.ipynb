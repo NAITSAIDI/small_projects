{
 "cells": [
  {
   "cell_type": "code",
   "execution_count": 85,
   "id": "8f9f2875",
   "metadata": {},
   "outputs": [],
   "source": [
    "#Step 1 \n",
    "\n",
    "word_list = [\"aardvark\", \"baboon\", \"camel\"]\n",
    "\n",
    "#TODO-1 - Randomly choose a word from the word_list and assign it to a variable called chosen_word.\n",
    "\n",
    "#TODO-2 - Ask the user to guess a letter and assign their answer to a variable called guess. Make guess lowercase.\n",
    "\n",
    "#TODO-3 - Check if the letter the user guessed (guess) is one of the letters in the chosen_word.\n"
   ]
  },
  {
   "cell_type": "code",
   "execution_count": 13,
   "id": "f6327331",
   "metadata": {},
   "outputs": [],
   "source": [
    "import random\n",
    "word_list= [\"aardvark\", \"baboon\", \"camel\"]\n",
    "word = random.choice(word_list)\n"
   ]
  },
  {
   "cell_type": "code",
   "execution_count": 14,
   "id": "1599c2eb",
   "metadata": {},
   "outputs": [
    {
     "ename": "NameError",
     "evalue": "name 'chosen_word' is not defined",
     "output_type": "error",
     "traceback": [
      "\u001b[0;31m---------------------------------------------------------------------------\u001b[0m",
      "\u001b[0;31mNameError\u001b[0m                                 Traceback (most recent call last)",
      "Input \u001b[0;32mIn [14]\u001b[0m, in \u001b[0;36m<cell line: 2>\u001b[0;34m()\u001b[0m\n\u001b[1;32m      1\u001b[0m \u001b[38;5;66;03m#Testing code\u001b[39;00m\n\u001b[0;32m----> 2\u001b[0m \u001b[38;5;28mprint\u001b[39m(\u001b[38;5;124mf\u001b[39m\u001b[38;5;124m'\u001b[39m\u001b[38;5;124mPssst, the solution is \u001b[39m\u001b[38;5;132;01m{\u001b[39;00mchosen_word\u001b[38;5;132;01m}\u001b[39;00m\u001b[38;5;124m.\u001b[39m\u001b[38;5;124m'\u001b[39m)\n",
      "\u001b[0;31mNameError\u001b[0m: name 'chosen_word' is not defined"
     ]
    }
   ],
   "source": [
    "#Testing code\n",
    "print(f'Pssst, the solution is {chosen_word}.')\n"
   ]
  },
  {
   "cell_type": "code",
   "execution_count": 88,
   "id": "4c40b801",
   "metadata": {},
   "outputs": [],
   "source": [
    "# Since I need it to show in a list I need to initialize an empty list\n",
    "display = []"
   ]
  },
  {
   "cell_type": "code",
   "execution_count": 89,
   "id": "2ae131aa",
   "metadata": {},
   "outputs": [
    {
     "name": "stdout",
     "output_type": "stream",
     "text": [
      "['_', '_', '_', '_', '_', '_', '_', '_']\n"
     ]
    }
   ],
   "source": [
    "# this for loop will run through each letter of the word and replace the letters with the Underscore. \n",
    "for i in chosen_word: \n",
    "    display += \"_\"\n",
    "print(display)\n",
    "    "
   ]
  },
  {
   "cell_type": "code",
   "execution_count": 96,
   "id": "ccc1618a",
   "metadata": {},
   "outputs": [],
   "source": [
    "end_of_game = False"
   ]
  },
  {
   "cell_type": "code",
   "execution_count": 97,
   "id": "86eebeef",
   "metadata": {},
   "outputs": [
    {
     "name": "stdout",
     "output_type": "stream",
     "text": [
      "Guess a letter: a\n",
      "['a', 'a', '_', '_', '_', 'a', '_', '_']\n",
      "Guess a letter: a\n",
      "['a', 'a', '_', '_', '_', 'a', '_', '_']\n",
      "Guess a letter: d\n",
      "['a', 'a', '_', 'd', '_', 'a', '_', '_']\n",
      "Guess a letter: f\n",
      "['a', 'a', '_', 'd', '_', 'a', '_', '_']\n",
      "Guess a letter: v\n",
      "['a', 'a', '_', 'd', 'v', 'a', '_', '_']\n",
      "Guess a letter: k\n",
      "['a', 'a', '_', 'd', 'v', 'a', '_', 'k']\n",
      "Guess a letter: v\n",
      "['a', 'a', '_', 'd', 'v', 'a', '_', 'k']\n",
      "Guess a letter: r\n",
      "['a', 'a', 'r', 'd', 'v', 'a', 'r', 'k']\n",
      "You win.\n"
     ]
    }
   ],
   "source": [
    "while not end_of_game:\n",
    "    \n",
    "    guess= input(\"Guess a letter: \").lower()\n",
    "    for position in range (len(chosen_word)):\n",
    "        letter = chosen_word[position]\n",
    "        if letter == guess:\n",
    "            display[position] = letter\n",
    "    print(display)\n",
    "    if \"_\" not in display:\n",
    "        end_of_game = True\n",
    "        print(\"You win.\")"
   ]
  },
  {
   "cell_type": "code",
   "execution_count": 92,
   "id": "2c00ccfb",
   "metadata": {},
   "outputs": [
    {
     "name": "stdout",
     "output_type": "stream",
     "text": [
      "Right\n",
      "Right\n",
      "Wrong\n",
      "Wrong\n",
      "Wrong\n",
      "Right\n",
      "Wrong\n",
      "Wrong\n"
     ]
    }
   ],
   "source": [
    "# this step came first in the exercise. (just checking if the guessed letter is right or wrong)\n",
    "for letter in chosen_word :\n",
    "    if letter == guess:\n",
    "        print(\"Right\")\n",
    "    else:\n",
    "        print(\"Wrong\")"
   ]
  },
  {
   "cell_type": "code",
   "execution_count": 98,
   "id": "57520fcb",
   "metadata": {},
   "outputs": [],
   "source": [
    "# I got stuck in this method so I decided to use another method inspired by NeuralNine's youtube channel\n",
    " "
   ]
  },
  {
   "cell_type": "code",
   "execution_count": 15,
   "id": "97cab542",
   "metadata": {},
   "outputs": [],
   "source": [
    "import random\n",
    "word_list= [\"aardvark\", \"baboon\", \"camel\"]\n",
    "word = random.choice(word_list)"
   ]
  },
  {
   "cell_type": "code",
   "execution_count": 16,
   "id": "d9fda67a",
   "metadata": {},
   "outputs": [],
   "source": [
    "allowed_errors = 7"
   ]
  },
  {
   "cell_type": "code",
   "execution_count": 17,
   "id": "e550d85f",
   "metadata": {},
   "outputs": [],
   "source": [
    "guesses= []\n",
    "done = False"
   ]
  },
  {
   "cell_type": "code",
   "execution_count": 18,
   "id": "52c9ed2b",
   "metadata": {},
   "outputs": [
    {
     "name": "stdout",
     "output_type": "stream",
     "text": [
      "_ _ _ _ _ \n",
      "allowed errors left 7, next guess: d\n",
      "_ _ _ _ _ \n",
      "allowed errors left 6, next guess: a\n",
      "_ a _ _ _ \n",
      "allowed errors left 6, next guess: b\n",
      "_ a _ _ _ \n",
      "allowed errors left 5, next guess: d\n",
      "_ a _ _ _ \n",
      "allowed errors left 4, next guess: l\n",
      "_ a _ _ l \n",
      "allowed errors left 4, next guess: m\n",
      "_ a m _ l \n",
      "allowed errors left 4, next guess: c\n",
      "c a m _ l \n",
      "allowed errors left 4, next guess: e\n",
      "You have found the word, it was camel!\n"
     ]
    }
   ],
   "source": [
    "while not done:       # while the game is not done\n",
    "    for letter in word:     # if the letter is found in the word\n",
    "        if letter.lower() in guesses:     # better set it to lower just in case \n",
    "            print(letter, end= \" \")         # the \" \" allows to stay in the same line \n",
    "        else:\n",
    "            print (\"_\", end = \" \")   # underscores will display on the same line for the non guessed \n",
    "    print(\"\")\n",
    "    guess= input(f\"allowed errors left {allowed_errors}, next guess: \")\n",
    "    guesses.append(guess.lower())\n",
    "    if guess.lower() not in word.lower():\n",
    "        allowed_errors -=1\n",
    "        if allowed_errors == 0:\n",
    "            break\n",
    "    done = True\n",
    "    for letter in word:\n",
    "        if letter.lower() not in guesses:\n",
    "            done= False\n",
    "if done:\n",
    "    print(f\"You have found the word, it was {word}!\")\n",
    "else:\n",
    "    print(f\"Game over, it was {word}!\")"
   ]
  },
  {
   "cell_type": "code",
   "execution_count": null,
   "id": "30f0675b",
   "metadata": {},
   "outputs": [],
   "source": []
  },
  {
   "cell_type": "code",
   "execution_count": null,
   "id": "5c0407ac",
   "metadata": {},
   "outputs": [],
   "source": []
  }
 ],
 "metadata": {
  "kernelspec": {
   "display_name": "Python 3 (ipykernel)",
   "language": "python",
   "name": "python3"
  },
  "language_info": {
   "codemirror_mode": {
    "name": "ipython",
    "version": 3
   },
   "file_extension": ".py",
   "mimetype": "text/x-python",
   "name": "python",
   "nbconvert_exporter": "python",
   "pygments_lexer": "ipython3",
   "version": "3.9.12"
  }
 },
 "nbformat": 4,
 "nbformat_minor": 5
}
