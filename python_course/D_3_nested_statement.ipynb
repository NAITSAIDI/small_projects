{
 "cells": [
  {
   "cell_type": "code",
   "execution_count": 5,
   "id": "e3502ffe",
   "metadata": {},
   "outputs": [
    {
     "name": "stdout",
     "output_type": "stream",
     "text": [
      "enter your height in m: 180\n"
     ]
    }
   ],
   "source": [
    "height = int(input(\"enter your height in m: \"))\n"
   ]
  },
  {
   "cell_type": "code",
   "execution_count": null,
   "id": "0c5370ac",
   "metadata": {},
   "outputs": [],
   "source": [
    "Age = int(input(\"enter your Age: \"))\n"
   ]
  },
  {
   "cell_type": "code",
   "execution_count": 14,
   "id": "1a2478ec",
   "metadata": {},
   "outputs": [
    {
     "name": "stdout",
     "output_type": "stream",
     "text": [
      "You can ride the rollercoaster ! \n",
      "what is your age?: 16\n",
      "you pay $7.\n"
     ]
    }
   ],
   "source": [
    "if height >= 120: \n",
    "    print(\"You can ride the rollercoaster ! \")\n",
    "    age= int(input('what is your age?: '))\n",
    "    if age <= 18:\n",
    "        print('you pay $7.')\n",
    "    else:\n",
    "            print('you pay $12.')\n",
    "else:\n",
    "    print(\"sorry you can't ride the rollercoaster\")    "
   ]
  },
  {
   "cell_type": "code",
   "execution_count": 7,
   "id": "5af55fe0",
   "metadata": {},
   "outputs": [],
   "source": [
    "##  nested statement with elif"
   ]
  },
  {
   "cell_type": "code",
   "execution_count": 17,
   "id": "963d38a8",
   "metadata": {},
   "outputs": [
    {
     "name": "stdout",
     "output_type": "stream",
     "text": [
      "You can ride the rollercoaster ! \n",
      "what is your age?: 5\n",
      "you pay $5.\n"
     ]
    }
   ],
   "source": [
    "if height >= 120: \n",
    "    print(\"You can ride the rollercoaster ! \")\n",
    "    age= int(input('what is your age?: '))\n",
    "    if age <= 12:\n",
    "        print('you pay $5.')\n",
    "        \n",
    "    elif age <= 18:\n",
    "        print ('you pay $7')\n",
    "      \n",
    "    else:\n",
    "            print('you pay $12.')\n",
    "\n",
    "else:\n",
    "    print(\"sorry you can't ride the rollercoaster\")    "
   ]
  },
  {
   "cell_type": "markdown",
   "id": "1bc5e8e4",
   "metadata": {},
   "source": [
    "## Let's add Another condition\n",
    "\n"
   ]
  },
  {
   "cell_type": "code",
   "execution_count": 1,
   "id": "9770dd11",
   "metadata": {},
   "outputs": [
    {
     "name": "stdout",
     "output_type": "stream",
     "text": [
      "enter your height in m: 180\n"
     ]
    }
   ],
   "source": [
    "height = int(input(\"enter your height in m: \"))\n"
   ]
  },
  {
   "cell_type": "code",
   "execution_count": 6,
   "id": "41c3fff0",
   "metadata": {},
   "outputs": [
    {
     "name": "stdout",
     "output_type": "stream",
     "text": [
      "You can ride the rollercoaster ! \n",
      "what is your age?: 18\n",
      "Youth ticket is $7\n",
      "Do you want a photo? Y or N Y\n",
      "your final bill is 10\n"
     ]
    }
   ],
   "source": [
    "if height >= 120: \n",
    "    print(\"You can ride the rollercoaster ! \")\n",
    "    age= int(input('what is your age?: '))\n",
    "    if age <= 12:\n",
    "        bill= 5\n",
    "        print('The child ticket is $5.')\n",
    "         \n",
    "    elif age <= 18:\n",
    "        print ('Youth ticket is $7')\n",
    "        bill = 7\n",
    "    else:\n",
    "            print('Adult ticket is $12.')\n",
    "            bill = 12 \n",
    "    want_photo= input(\"Do you want a photo? Y or N \")\n",
    "    if want_photo == \"Y\":\n",
    "        bill = bill + 3   # I can also write bill += 3\n",
    "    print(f\"your final bill is {bill}\")\n",
    "        \n",
    "        \n",
    "    \n",
    "else:\n",
    "    print(\"sorry you can't ride the rollercoaster\")    "
   ]
  },
  {
   "cell_type": "markdown",
   "id": "f0b8702d",
   "metadata": {},
   "source": [
    "## A Bit further with logical operator"
   ]
  },
  {
   "cell_type": "code",
   "execution_count": 1,
   "id": "3b1866b4",
   "metadata": {},
   "outputs": [
    {
     "name": "stdout",
     "output_type": "stream",
     "text": [
      "enter your height in m: 160\n"
     ]
    }
   ],
   "source": [
    "height = int(input(\"enter your height in m: \"))"
   ]
  },
  {
   "cell_type": "code",
   "execution_count": 8,
   "id": "2b75f764",
   "metadata": {},
   "outputs": [
    {
     "name": "stdout",
     "output_type": "stream",
     "text": [
      "You can ride the rollercoaster ! \n",
      "what is your age?: 54\n",
      "Adult ticket is $0.\n",
      "Do you want a photo? Y or N Y\n",
      "your final bill is 3\n"
     ]
    }
   ],
   "source": [
    "if height >= 120: \n",
    "    print(\"You can ride the rollercoaster ! \")\n",
    "    age= int(input('what is your age?: '))\n",
    "    if age <= 12:\n",
    "        bill= 5\n",
    "        print('The child ticket is $5.')\n",
    "         \n",
    "    elif age <= 18:\n",
    "        print ('Youth ticket is $7')\n",
    "        bill = 7\n",
    "    elif age >= 45 and age <=55:\n",
    "        bill= 0\n",
    "        print('Adult ticket is $0.')\n",
    "         \n",
    "            \n",
    "    want_photo= input(\"Do you want a photo? Y or N \")\n",
    "    if want_photo == \"Y\":\n",
    "        bill = bill + 3   # I can also write bill += 3\n",
    "    print(f\"your final bill is {bill}\")\n",
    "        \n",
    "        \n",
    "    \n",
    "else:\n",
    "    print(\"sorry you can't ride the rollercoaster\")    "
   ]
  },
  {
   "cell_type": "markdown",
   "id": "6b135195",
   "metadata": {},
   "source": [
    "## BMI Second Challenge calculate + nested statement with the interpretation of the result :"
   ]
  },
  {
   "cell_type": "code",
   "execution_count": null,
   "id": "45ad03bf",
   "metadata": {},
   "outputs": [],
   "source": []
  },
  {
   "cell_type": "code",
   "execution_count": 4,
   "id": "9a19115d",
   "metadata": {},
   "outputs": [
    {
     "name": "stdout",
     "output_type": "stream",
     "text": [
      "enter your height in m: 1.5\n",
      "enter your weight in KG: 80\n"
     ]
    }
   ],
   "source": [
    "height = float(input(\"enter your height in m: \"))\n",
    "weight = int(input(\"enter your weight in KG: \"))"
   ]
  },
  {
   "cell_type": "code",
   "execution_count": 5,
   "id": "99677ad3",
   "metadata": {},
   "outputs": [
    {
     "data": {
      "text/plain": [
       "36"
      ]
     },
     "execution_count": 5,
     "metadata": {},
     "output_type": "execute_result"
    }
   ],
   "source": [
    "\n",
    "bmi = round(weight / height**2)\n",
    "bmi"
   ]
  },
  {
   "cell_type": "code",
   "execution_count": 8,
   "id": "da554603",
   "metadata": {},
   "outputs": [
    {
     "name": "stdout",
     "output_type": "stream",
     "text": [
      "your bmi is 36, 'you are clinically obese\n"
     ]
    }
   ],
   "source": [
    "\n",
    "if bmi <18.5:\n",
    "    print (f\"your bmi is {bmi}, you are underweight\")\n",
    "elif bmi < 25:\n",
    "    print (f\"your bmi is {bmi}, Your weight is normal\")\n",
    "elif bmi < 30:\n",
    "    print(f\"your bmi is {bmi}, you are overweight\")\n",
    "elif bmi < 35:\n",
    "    print (f\"your bmi is {bmi}, you are obese\")\n",
    "else:\n",
    "    print (f\"your bmi is {bmi}, 'you are clinically obese\")"
   ]
  },
  {
   "cell_type": "markdown",
   "id": "5c48b78a",
   "metadata": {},
   "source": [
    "## Order Pizza Challenge "
   ]
  },
  {
   "cell_type": "code",
   "execution_count": 1,
   "id": "fcbb98e7",
   "metadata": {},
   "outputs": [
    {
     "name": "stdout",
     "output_type": "stream",
     "text": [
      "Welcome to Python Pizza Deliveries!\n",
      "What size pizza do you want? S, M, or L S\n",
      "Do you want pepperoni? Y or N Y\n",
      "Do you want extra cheese? Y or N Y\n"
     ]
    }
   ],
   "source": [
    "# 🚨 Don't change the code below 👇\n",
    "print(\"Welcome to Python Pizza Deliveries!\")\n",
    "size = input(\"What size pizza do you want? S, M, or L \")\n",
    "add_pepperoni = input(\"Do you want pepperoni? Y or N \")\n",
    "extra_cheese = input(\"Do you want extra cheese? Y or N \")\n",
    "# 🚨 Don't change the code above 👆"
   ]
  },
  {
   "cell_type": "code",
   "execution_count": 5,
   "id": "5d206c47",
   "metadata": {},
   "outputs": [
    {
     "name": "stdout",
     "output_type": "stream",
     "text": [
      "the bill is $18\n"
     ]
    }
   ],
   "source": [
    "\n",
    "\n",
    "#Write your code below this line 👇\n",
    "bill =0\n",
    "if size ==\"S\":\n",
    "    bill += 15\n",
    "    if add_pepperoni == 'Y':\n",
    "        bill += 2\n",
    "        \n",
    "elif size == \"M\":\n",
    "    bill += 20\n",
    "   \n",
    "    if add_pepperoni == 'Y':\n",
    "        bill += 3\n",
    "else:\n",
    "    bill +=25\n",
    "\n",
    "if extra_cheese == \"Y\":\n",
    "    bill += 1 \n",
    "    print (f'the bill is ${bill}')"
   ]
  },
  {
   "cell_type": "code",
   "execution_count": null,
   "id": "cfd655d1",
   "metadata": {},
   "outputs": [],
   "source": []
  },
  {
   "cell_type": "code",
   "execution_count": null,
   "id": "f588dae9",
   "metadata": {},
   "outputs": [],
   "source": []
  }
 ],
 "metadata": {
  "kernelspec": {
   "display_name": "Python 3 (ipykernel)",
   "language": "python",
   "name": "python3"
  },
  "language_info": {
   "codemirror_mode": {
    "name": "ipython",
    "version": 3
   },
   "file_extension": ".py",
   "mimetype": "text/x-python",
   "name": "python",
   "nbconvert_exporter": "python",
   "pygments_lexer": "ipython3",
   "version": "3.9.12"
  }
 },
 "nbformat": 4,
 "nbformat_minor": 5
}
