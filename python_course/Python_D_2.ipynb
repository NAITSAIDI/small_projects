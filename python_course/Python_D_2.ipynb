{
 "cells": [
  {
   "cell_type": "markdown",
   "id": "09253afd",
   "metadata": {},
   "source": [
    "###  This Document will contain exercises that I will be doing along with the course 100 Days of Code: The Complete Python Pro Bootcamp for 2022 on Udemy, in the purpose of reviewing Python basics and consolidating them. "
   ]
  },
  {
   "cell_type": "markdown",
   "id": "8e994a36",
   "metadata": {},
   "source": [
    "<head>\n",
    "\n",
    "    "
   ]
  },
  {
   "cell_type": "code",
   "execution_count": 9,
   "id": "e11ba1a2",
   "metadata": {},
   "outputs": [
    {
     "name": "stdout",
     "output_type": "stream",
     "text": [
      "enter your height in m: 1.6\n",
      "enter your weight in kg: 60\n"
     ]
    }
   ],
   "source": [
    "height = input(\"enter your height in m: \")\n",
    "weight = input(\"enter your weight in kg: \")"
   ]
  },
  {
   "cell_type": "code",
   "execution_count": 11,
   "id": "b754df3b",
   "metadata": {},
   "outputs": [],
   "source": [
    "bmi= int(weight) / float(height)**2\n",
    "bmi_whole= int(bmi)"
   ]
  },
  {
   "cell_type": "code",
   "execution_count": 12,
   "id": "a27c313f",
   "metadata": {},
   "outputs": [
    {
     "data": {
      "text/plain": [
       "23"
      ]
     },
     "execution_count": 12,
     "metadata": {},
     "output_type": "execute_result"
    }
   ],
   "source": [
    "bmi_whole"
   ]
  },
  {
   "cell_type": "code",
   "execution_count": 13,
   "id": "bc10c266",
   "metadata": {},
   "outputs": [],
   "source": [
    "# Day 3 conrol \n",
    "# Conditional statement : IF / Else "
   ]
  },
  {
   "cell_type": "code",
   "execution_count": 11,
   "id": "a54ca737",
   "metadata": {},
   "outputs": [
    {
     "name": "stdout",
     "output_type": "stream",
     "text": [
      "Welcome to the Rollercoaster\n",
      "What is your height in cm?: 120\n"
     ]
    }
   ],
   "source": [
    "print(\"Welcome to the Rollercoaster\")\n",
    "height = int(input('What is your height in cm?: '))"
   ]
  },
  {
   "cell_type": "code",
   "execution_count": 12,
   "id": "6bee7e7f",
   "metadata": {},
   "outputs": [
    {
     "name": "stdout",
     "output_type": "stream",
     "text": [
      "sorry you can't ride the rollercoaster\n"
     ]
    }
   ],
   "source": [
    "if height != 120: \n",
    "    print(\"You can ride the rollercoaster\")\n",
    "else:\n",
    "    print(\"sorry you can't ride the rollercoaster\")    "
   ]
  },
  {
   "cell_type": "code",
   "execution_count": 13,
   "id": "7404f1d6",
   "metadata": {},
   "outputs": [],
   "source": [
    "# Check if a number is even of odd "
   ]
  },
  {
   "cell_type": "code",
   "execution_count": 14,
   "id": "78c4a866",
   "metadata": {},
   "outputs": [
    {
     "name": "stdout",
     "output_type": "stream",
     "text": [
      "Which number do you want to check? 13\n",
      "the number is odd\n"
     ]
    }
   ],
   "source": [
    "# 🚨 Don't change the code below 👇\n",
    "number = int(input(\"Which number do you want to check? \"))\n",
    "# 🚨 Don't change the code above 👆\n",
    "\n",
    "#Write your code below this line 👇\n",
    "\n",
    "if number % 2 == 0:\n",
    "  print( 'the number is even')\n",
    "else: \n",
    "  print(\"the number is odd\")\n"
   ]
  },
  {
   "cell_type": "code",
   "execution_count": null,
   "id": "827f8632",
   "metadata": {},
   "outputs": [],
   "source": []
  }
 ],
 "metadata": {
  "kernelspec": {
   "display_name": "Python 3 (ipykernel)",
   "language": "python",
   "name": "python3"
  },
  "language_info": {
   "codemirror_mode": {
    "name": "ipython",
    "version": 3
   },
   "file_extension": ".py",
   "mimetype": "text/x-python",
   "name": "python",
   "nbconvert_exporter": "python",
   "pygments_lexer": "ipython3",
   "version": "3.9.12"
  }
 },
 "nbformat": 4,
 "nbformat_minor": 5
}
