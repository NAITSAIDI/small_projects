{
 "cells": [
  {
   "cell_type": "code",
   "execution_count": 3,
   "id": "b3e29812",
   "metadata": {},
   "outputs": [],
   "source": [
    "#Basic example\n",
    "fruits= [\"Apple\", \"Banana\", \"Watermelon\", \"Orange\"]"
   ]
  },
  {
   "cell_type": "code",
   "execution_count": 22,
   "id": "3cabd7df",
   "metadata": {},
   "outputs": [
    {
     "name": "stdout",
     "output_type": "stream",
     "text": [
      "Apple\n",
      "Banana\n",
      "Watermelon\n",
      "Orange\n"
     ]
    }
   ],
   "source": [
    "for fruit in fruits:\n",
    "    print (fruit)"
   ]
  },
  {
   "cell_type": "code",
   "execution_count": 23,
   "id": "6f9fdd90",
   "metadata": {},
   "outputs": [
    {
     "name": "stdout",
     "output_type": "stream",
     "text": [
      "Apple\n",
      "Apple pie\n",
      "Banana\n",
      "Banana pie\n",
      "Watermelon\n",
      "Watermelon pie\n",
      "Orange\n",
      "Orange pie\n",
      "['Apple', 'Banana', 'Watermelon', 'Orange']\n"
     ]
    }
   ],
   "source": [
    "# The idented lines fall in the loop but the last line which is not indented prints only once. \n",
    "for fruit in fruits:\n",
    "    print (fruit)\n",
    "    print (fruit +\" pie\")\n",
    "print (fruits)"
   ]
  },
  {
   "cell_type": "markdown",
   "id": "a1136bf1",
   "metadata": {},
   "source": [
    "## Average Height "
   ]
  },
  {
   "cell_type": "code",
   "execution_count": 24,
   "id": "bb64dae1",
   "metadata": {},
   "outputs": [],
   "source": [
    "student_heights = 180 124 165 173 189 169 146"
   ]
  },
  {
   "cell_type": "code",
   "execution_count": 35,
   "id": "063202a8",
   "metadata": {},
   "outputs": [
    {
     "name": "stdout",
     "output_type": "stream",
     "text": [
      "Input a list of student heights 180 124 165 173 189 169 146\n"
     ]
    }
   ],
   "source": [
    "# 🚨 Don't change the code below 👇\n",
    "student_heights = input(\"Input a list of student heights \").split()\n"
   ]
  },
  {
   "cell_type": "code",
   "execution_count": 36,
   "id": "c6e80006",
   "metadata": {},
   "outputs": [
    {
     "data": {
      "text/plain": [
       "['180', '124', '165', '173', '189', '169', '146']"
      ]
     },
     "execution_count": 36,
     "metadata": {},
     "output_type": "execute_result"
    }
   ],
   "source": [
    "student_heights"
   ]
  },
  {
   "cell_type": "code",
   "execution_count": 38,
   "id": "355f585a",
   "metadata": {},
   "outputs": [],
   "source": [
    "for n in range(0, len(student_heights)):\n",
    "    student_heights[n] = int(student_heights[n])\n"
   ]
  },
  {
   "cell_type": "code",
   "execution_count": 39,
   "id": "4a73da0b",
   "metadata": {},
   "outputs": [
    {
     "name": "stdout",
     "output_type": "stream",
     "text": [
      "0\n"
     ]
    },
    {
     "ename": "IndexError",
     "evalue": "list index out of range",
     "output_type": "error",
     "traceback": [
      "\u001b[0;31m---------------------------------------------------------------------------\u001b[0m",
      "\u001b[0;31mIndexError\u001b[0m                                Traceback (most recent call last)",
      "Input \u001b[0;32mIn [39]\u001b[0m, in \u001b[0;36m<cell line: 1>\u001b[0;34m()\u001b[0m\n\u001b[1;32m      1\u001b[0m \u001b[38;5;28;01mfor\u001b[39;00m n \u001b[38;5;129;01min\u001b[39;00m ( \u001b[38;5;241m0\u001b[39m, \u001b[38;5;28mlen\u001b[39m(student_heights)): \n\u001b[0;32m----> 2\u001b[0m     student_heights[n] \u001b[38;5;241m=\u001b[39m \u001b[38;5;28mint\u001b[39m(\u001b[43mstudent_heights\u001b[49m\u001b[43m[\u001b[49m\u001b[43mn\u001b[49m\u001b[43m]\u001b[49m)\n\u001b[1;32m      3\u001b[0m     \u001b[38;5;28mprint\u001b[39m (n\u001b[38;5;241m+\u001b[39mn)\n",
      "\u001b[0;31mIndexError\u001b[0m: list index out of range"
     ]
    }
   ],
   "source": [
    "for n in ( 0, len(student_heights)): \n",
    "    student_heights[n] = int(student_heights[n])\n",
    "    print (n+n)\n",
    "    "
   ]
  },
  {
   "cell_type": "code",
   "execution_count": null,
   "id": "38b1f2c4",
   "metadata": {},
   "outputs": [],
   "source": []
  },
  {
   "cell_type": "code",
   "execution_count": null,
   "id": "7ee57da9",
   "metadata": {},
   "outputs": [],
   "source": []
  },
  {
   "cell_type": "code",
   "execution_count": 44,
   "id": "50189021",
   "metadata": {},
   "outputs": [],
   "source": [
    "total_height = sum(student_heights)"
   ]
  },
  {
   "cell_type": "code",
   "execution_count": 48,
   "id": "dcd3f02c",
   "metadata": {},
   "outputs": [
    {
     "data": {
      "text/plain": [
       "164"
      ]
     },
     "execution_count": 48,
     "metadata": {},
     "output_type": "execute_result"
    }
   ],
   "source": [
    "Average_height = round(total_height / len(student_heights))\n",
    "Average_height"
   ]
  },
  {
   "cell_type": "code",
   "execution_count": null,
   "id": "309643e1",
   "metadata": {},
   "outputs": [],
   "source": []
  }
 ],
 "metadata": {
  "kernelspec": {
   "display_name": "Python 3 (ipykernel)",
   "language": "python",
   "name": "python3"
  },
  "language_info": {
   "codemirror_mode": {
    "name": "ipython",
    "version": 3
   },
   "file_extension": ".py",
   "mimetype": "text/x-python",
   "name": "python",
   "nbconvert_exporter": "python",
   "pygments_lexer": "ipython3",
   "version": "3.9.12"
  }
 },
 "nbformat": 4,
 "nbformat_minor": 5
}
