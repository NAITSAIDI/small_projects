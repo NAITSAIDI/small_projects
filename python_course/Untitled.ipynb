{
 "cells": [
  {
   "cell_type": "code",
   "execution_count": 5,
   "id": "f5d8b180",
   "metadata": {},
   "outputs": [
    {
     "name": "stdout",
     "output_type": "stream",
     "text": [
      "enter your height in m: 180\n"
     ]
    }
   ],
   "source": [
    "height = int(input(\"enter your height in m: \"))\n"
   ]
  },
  {
   "cell_type": "code",
   "execution_count": 6,
   "id": "cefd05fc",
   "metadata": {},
   "outputs": [
    {
     "name": "stdout",
     "output_type": "stream",
     "text": [
      "You can ride the rollercoaster ! \n",
      "what is your age?: 18\n",
      "you pay $7.\n"
     ]
    }
   ],
   "source": [
    "if height >= 120: \n",
    "    print(\"You can ride the rollercoaster ! \")\n",
    "    age= int(input('what is your age?: '))\n",
    "    if age <= 18:\n",
    "        print('you pay $7.')\n",
    "    else:\n",
    "            print('you pay $12.')\n",
    "else:\n",
    "    print(\"sorry you can't ride the rollercoaster\")    "
   ]
  },
  {
   "cell_type": "code",
   "execution_count": null,
   "id": "37092429",
   "metadata": {},
   "outputs": [],
   "source": []
  },
  {
   "cell_type": "code",
   "execution_count": null,
   "id": "e5969752",
   "metadata": {},
   "outputs": [],
   "source": []
  }
 ],
 "metadata": {
  "kernelspec": {
   "display_name": "Python 3 (ipykernel)",
   "language": "python",
   "name": "python3"
  },
  "language_info": {
   "codemirror_mode": {
    "name": "ipython",
    "version": 3
   },
   "file_extension": ".py",
   "mimetype": "text/x-python",
   "name": "python",
   "nbconvert_exporter": "python",
   "pygments_lexer": "ipython3",
   "version": "3.9.12"
  }
 },
 "nbformat": 4,
 "nbformat_minor": 5
}
