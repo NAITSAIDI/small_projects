{
 "cells": [
  {
   "cell_type": "markdown",
   "id": "2b69c3b8",
   "metadata": {},
   "source": [
    "### The Leap Year Exercise"
   ]
  },
  {
   "cell_type": "code",
   "execution_count": 8,
   "id": "d919518b",
   "metadata": {},
   "outputs": [
    {
     "name": "stdout",
     "output_type": "stream",
     "text": [
      "Enter a year 342\n"
     ]
    }
   ],
   "source": [
    "year= int(input(\"Enter a year \"))"
   ]
  },
  {
   "cell_type": "code",
   "execution_count": 9,
   "id": "98886c18",
   "metadata": {},
   "outputs": [
    {
     "name": "stdout",
     "output_type": "stream",
     "text": [
      "it's not a leap year\n"
     ]
    }
   ],
   "source": [
    "if year % 4 ==0: \n",
    "    if year % 100 ==0:\n",
    "        if year % 400 == 0:\n",
    "    \n",
    "    print (\"it's a leap year\")\n",
    "    elif\n",
    "    print(\"it's not a leap year\")\n",
    "    elif year % 100 == 0:\n",
    "        print (\"it's a leap year\")\n",
    "    elif     \n",
    "\n",
    "else:\n",
    "    print(\"it's not a leap year\")\n",
    " "
   ]
  },
  {
   "cell_type": "code",
   "execution_count": null,
   "id": "a5be456a",
   "metadata": {},
   "outputs": [],
   "source": []
  }
 ],
 "metadata": {
  "kernelspec": {
   "display_name": "Python 3 (ipykernel)",
   "language": "python",
   "name": "python3"
  },
  "language_info": {
   "codemirror_mode": {
    "name": "ipython",
    "version": 3
   },
   "file_extension": ".py",
   "mimetype": "text/x-python",
   "name": "python",
   "nbconvert_exporter": "python",
   "pygments_lexer": "ipython3",
   "version": "3.9.12"
  }
 },
 "nbformat": 4,
 "nbformat_minor": 5
}
