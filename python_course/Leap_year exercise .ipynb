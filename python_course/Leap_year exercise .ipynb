{
 "cells": [
  {
   "cell_type": "markdown",
   "id": "24c23b25",
   "metadata": {},
   "source": [
    "### The Leap Year Exercise"
   ]
  },
  {
   "cell_type": "code",
   "execution_count": 30,
   "id": "e2acded1",
   "metadata": {},
   "outputs": [],
   "source": [
    "### Meth@od 1. if statement "
   ]
  },
  {
   "cell_type": "code",
   "execution_count": 28,
   "id": "b367c86d",
   "metadata": {},
   "outputs": [
    {
     "name": "stdout",
     "output_type": "stream",
     "text": [
      "Enter a year 1100\n"
     ]
    }
   ],
   "source": [
    "year= int(input(\"Enter a year \"))"
   ]
  },
  {
   "cell_type": "code",
   "execution_count": 29,
   "id": "ae7a307a",
   "metadata": {},
   "outputs": [
    {
     "name": "stdout",
     "output_type": "stream",
     "text": [
      "it's not a leap year\n"
     ]
    }
   ],
   "source": [
    "if year % 4 ==0: \n",
    "    if year % 100 ==0:\n",
    "        if year % 400 == 0:\n",
    "            print (year, \"is a leap year\")\n",
    "        else: \n",
    "            print(\"it's not a leap year\")\n",
    "    else:\n",
    "        print (year, \"is a leap year\")\n",
    "else:\n",
    "    print(\"it's not a leap year\")\n",
    "    \n",
    "        \n",
    "    \n",
    " \n",
    "   \n",
    "   "
   ]
  },
  {
   "cell_type": "markdown",
   "id": "46289091",
   "metadata": {},
   "source": [
    "### Method 2 with a function "
   ]
  },
  {
   "cell_type": "code",
   "execution_count": 13,
   "id": "34ce8e2c",
   "metadata": {},
   "outputs": [
    {
     "name": "stdout",
     "output_type": "stream",
     "text": [
      "Enter a year: 2020\n"
     ]
    }
   ],
   "source": [
    "input_year = int(input(\"Enter a year: \"))"
   ]
  },
  {
   "cell_type": "code",
   "execution_count": 14,
   "id": "592f2dfa",
   "metadata": {},
   "outputs": [
    {
     "name": "stdout",
     "output_type": "stream",
     "text": [
      "is a leap year\n"
     ]
    }
   ],
   "source": [
    "def is_leap(year):\n",
    "    if (year % 4 ==0) or (year % 4 ==0 and year % 100 != 0):\n",
    "        return True \n",
    "    else:\n",
    "        return False\n",
    "if is_leap(input_year):\n",
    "    print (\"It is a leap year\")\n",
    "else:\n",
    "    print(\"It is not a leap year\")"
   ]
  },
  {
   "cell_type": "markdown",
   "id": "25cc4801",
   "metadata": {},
   "source": [
    "### Method 3 using Calendar Module"
   ]
  },
  {
   "cell_type": "code",
   "execution_count": 16,
   "id": "e73f978e",
   "metadata": {},
   "outputs": [],
   "source": [
    "import calendar"
   ]
  },
  {
   "cell_type": "code",
   "execution_count": 19,
   "id": "21df06a1",
   "metadata": {},
   "outputs": [
    {
     "name": "stdout",
     "output_type": "stream",
     "text": [
      "Enter a year: 2020\n"
     ]
    }
   ],
   "source": [
    "input_year = int(input(\"Enter a year: \"))"
   ]
  },
  {
   "cell_type": "code",
   "execution_count": 20,
   "id": "a1786ba5",
   "metadata": {},
   "outputs": [
    {
     "data": {
      "text/plain": [
       "True"
      ]
     },
     "execution_count": 20,
     "metadata": {},
     "output_type": "execute_result"
    }
   ],
   "source": [
    "calendar.isleap(input_year)\n"
   ]
  },
  {
   "cell_type": "code",
   "execution_count": 22,
   "id": "b7a078f6",
   "metadata": {},
   "outputs": [
    {
     "name": "stdout",
     "output_type": "stream",
     "text": [
      "It is a leap year\n"
     ]
    }
   ],
   "source": [
    "if calendar.isleap(input_year):\n",
    "    print(\"It is a leap year\")\n",
    "else:\n",
    "    print(\"It is not a leap year\")"
   ]
  },
  {
   "cell_type": "code",
   "execution_count": null,
   "id": "b11218d3",
   "metadata": {},
   "outputs": [],
   "source": []
  }
 ],
 "metadata": {
  "kernelspec": {
   "display_name": "Python 3 (ipykernel)",
   "language": "python",
   "name": "python3"
  },
  "language_info": {
   "codemirror_mode": {
    "name": "ipython",
    "version": 3
   },
   "file_extension": ".py",
   "mimetype": "text/x-python",
   "name": "python",
   "nbconvert_exporter": "python",
   "pygments_lexer": "ipython3",
   "version": "3.9.12"
  }
 },
 "nbformat": 4,
 "nbformat_minor": 5
}
