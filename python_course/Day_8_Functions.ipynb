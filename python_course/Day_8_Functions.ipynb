{
 "cells": [
  {
   "cell_type": "markdown",
   "id": "68343aca",
   "metadata": {},
   "source": [
    "## Functions "
   ]
  },
  {
   "cell_type": "code",
   "execution_count": null,
   "id": "653f2584",
   "metadata": {},
   "outputs": [],
   "source": [
    "# Review: \n",
    "# Create a function called greet(). \n",
    "# Write 3 print statements inside the function.\n",
    "# Call the greet() function and run your code.\n"
   ]
  },
  {
   "cell_type": "code",
   "execution_count": 1,
   "id": "f7e29962",
   "metadata": {},
   "outputs": [
    {
     "name": "stdout",
     "output_type": "stream",
     "text": [
      "hi\n",
      "how r u\n"
     ]
    }
   ],
   "source": [
    "def greet():\n",
    "    print(\"hi\")\n",
    "    print('how r u')\n",
    "greet()"
   ]
  },
  {
   "cell_type": "code",
   "execution_count": 7,
   "id": "2b6d536c",
   "metadata": {},
   "outputs": [
    {
     "name": "stdout",
     "output_type": "stream",
     "text": [
      "hi Alix\n",
      "how are you? Alix\n"
     ]
    }
   ],
   "source": [
    "def greet_with_name(name):\n",
    "    print(f'hi {name}')\n",
    "    print (f'how are you? {name}')\n",
    "greet_with_name('Alix')"
   ]
  },
  {
   "cell_type": "code",
   "execution_count": null,
   "id": "823b7798",
   "metadata": {},
   "outputs": [],
   "source": []
  }
 ],
 "metadata": {
  "kernelspec": {
   "display_name": "Python 3 (ipykernel)",
   "language": "python",
   "name": "python3"
  },
  "language_info": {
   "codemirror_mode": {
    "name": "ipython",
    "version": 3
   },
   "file_extension": ".py",
   "mimetype": "text/x-python",
   "name": "python",
   "nbconvert_exporter": "python",
   "pygments_lexer": "ipython3",
   "version": "3.9.12"
  }
 },
 "nbformat": 4,
 "nbformat_minor": 5
}
