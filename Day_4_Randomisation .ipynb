{
 "cells": [
  {
   "cell_type": "code",
   "execution_count": 1,
   "id": "668f4b6b",
   "metadata": {},
   "outputs": [],
   "source": [
    "import random"
   ]
  },
  {
   "cell_type": "code",
   "execution_count": 18,
   "id": "df0752e2",
   "metadata": {},
   "outputs": [],
   "source": [
    "random_float = random.random()"
   ]
  },
  {
   "cell_type": "code",
   "execution_count": 19,
   "id": "1623c3c8",
   "metadata": {},
   "outputs": [
    {
     "data": {
      "text/plain": [
       "0.3976303011787037"
      ]
     },
     "execution_count": 19,
     "metadata": {},
     "output_type": "execute_result"
    }
   ],
   "source": [
    "random_float "
   ]
  },
  {
   "cell_type": "code",
   "execution_count": 25,
   "id": "67e9d6e0",
   "metadata": {},
   "outputs": [],
   "source": [
    "random_integer= random.randint(0,1000)"
   ]
  },
  {
   "cell_type": "code",
   "execution_count": 26,
   "id": "fd8ad317",
   "metadata": {},
   "outputs": [
    {
     "data": {
      "text/plain": [
       "783"
      ]
     },
     "execution_count": 26,
     "metadata": {},
     "output_type": "execute_result"
    }
   ],
   "source": [
    "random_integer "
   ]
  },
  {
   "cell_type": "code",
   "execution_count": 40,
   "id": "d5aea8da",
   "metadata": {},
   "outputs": [],
   "source": [
    "randomFloat= random.random() * 5"
   ]
  },
  {
   "cell_type": "code",
   "execution_count": 41,
   "id": "e805ad4d",
   "metadata": {},
   "outputs": [
    {
     "data": {
      "text/plain": [
       "4.0676480194856115"
      ]
     },
     "execution_count": 41,
     "metadata": {},
     "output_type": "execute_result"
    }
   ],
   "source": [
    "randomFloat"
   ]
  },
  {
   "cell_type": "code",
   "execution_count": 52,
   "id": "4c864eb6",
   "metadata": {},
   "outputs": [],
   "source": [
    "Random_Love= random.randint(1,100)"
   ]
  },
  {
   "cell_type": "code",
   "execution_count": 53,
   "id": "1db1b9bd",
   "metadata": {},
   "outputs": [
    {
     "name": "stdout",
     "output_type": "stream",
     "text": [
      "your love score is 80%\n"
     ]
    }
   ],
   "source": [
    "print(f\"your love score is {Random_Love}%\")"
   ]
  },
  {
   "cell_type": "markdown",
   "id": "770bfdb4",
   "metadata": {},
   "source": [
    "Exercise 1: Head or Tails "
   ]
  },
  {
   "cell_type": "code",
   "execution_count": 58,
   "id": "acf9f925",
   "metadata": {},
   "outputs": [
    {
     "name": "stdout",
     "output_type": "stream",
     "text": [
      "Tails\n"
     ]
    }
   ],
   "source": [
    "random_side = random.randint(0,1)\n",
    "if random_side ==1:\n",
    "    print(\"Heads\")\n",
    "else:\n",
    "    print(\"Tails\")"
   ]
  },
  {
   "cell_type": "markdown",
   "id": "38a1e888",
   "metadata": {},
   "source": [
    "Lists: List of the 50 States of America ordered Alphabetically "
   ]
  },
  {
   "cell_type": "code",
   "execution_count": 59,
   "id": "1394a63c",
   "metadata": {},
   "outputs": [],
   "source": [
    "state_names=[\"Alabama\", \"Alaska\", \"Arizona\", \"Arkansas\", \"California\", \"Colorado\", \"Connecticut\", \"Delaware\", \"Florida\", \"Georgia\", \"Hawaii\", \"Idaho\", \"Illinois\", \"Indiana\", \"Iowa\", \"Kansas\", \"Kentucky\", \"Louisiana\", \"Maine\", \"Maryland\", \"Massachusetts\", \"Michigan\", \"Minnesota\", \"Mississippi\", \"Missouri\", \"Montana\", \"Nebraska\", \"Nevada\", \"New Hampshire\", \"New Jersey\", \"New Mexico\", \"New York\", \"North Carolina\", \"North Dakota\", \"Ohio\", \"Oklahoma\", \"Oregon\", \"Pennsylvania\", \"Rhode Island\", \"South Carolina\", \"South Dakota\", \"Tennessee\", \"Texas\", \"Utah\", \"Vermont\", \"Virginia\", \"Washington\", \"West Virginia\", \"Wisconsin\", \"Wyoming\"]"
   ]
  },
  {
   "cell_type": "code",
   "execution_count": 61,
   "id": "989b777f",
   "metadata": {},
   "outputs": [
    {
     "data": {
      "text/plain": [
       "50"
      ]
     },
     "execution_count": 61,
     "metadata": {},
     "output_type": "execute_result"
    }
   ],
   "source": [
    "len(state_names)"
   ]
  },
  {
   "cell_type": "code",
   "execution_count": null,
   "id": "38163d12",
   "metadata": {},
   "outputs": [],
   "source": []
  }
 ],
 "metadata": {
  "kernelspec": {
   "display_name": "Python 3 (ipykernel)",
   "language": "python",
   "name": "python3"
  },
  "language_info": {
   "codemirror_mode": {
    "name": "ipython",
    "version": 3
   },
   "file_extension": ".py",
   "mimetype": "text/x-python",
   "name": "python",
   "nbconvert_exporter": "python",
   "pygments_lexer": "ipython3",
   "version": "3.9.12"
  }
 },
 "nbformat": 4,
 "nbformat_minor": 5
}
